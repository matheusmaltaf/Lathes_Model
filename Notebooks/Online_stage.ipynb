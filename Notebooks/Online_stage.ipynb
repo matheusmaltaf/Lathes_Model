{
 "cells": [
  {
   "cell_type": "markdown",
   "metadata": {},
   "source": [
    "# Online Stage"
   ]
  },
  {
   "cell_type": "code",
   "execution_count": 31,
   "metadata": {},
   "outputs": [],
   "source": [
    "import numpy as np\n",
    "import pandas as pd\n",
    "import pickle\n",
    "import tsfresh\n",
    "import matplotlib.pyplot as plt\n",
    "from tsfresh.utilities.dataframe_functions import impute\n",
    "from sklearn.metrics import recall_score, f1_score, precision_score\n",
    "from sklearn.metrics import plot_confusion_matrix"
   ]
  },
  {
   "cell_type": "markdown",
   "metadata": {},
   "source": [
    "The *input_id* corresponds to the dataset used in this analysis. (See *Input* directory for more information)"
   ]
  },
  {
   "cell_type": "code",
   "execution_count": 2,
   "metadata": {},
   "outputs": [],
   "source": [
    "input_id = 1\n",
    "\n",
    "PATH = 'Subsets/Input_%i_Test.csv' %(input_id)"
   ]
  },
  {
   "cell_type": "markdown",
   "metadata": {},
   "source": [
    "### Load Dataset"
   ]
  },
  {
   "cell_type": "code",
   "execution_count": 3,
   "metadata": {},
   "outputs": [],
   "source": [
    "full_data = np.genfromtxt(PATH,delimiter=',')"
   ]
  },
  {
   "cell_type": "code",
   "execution_count": 4,
   "metadata": {},
   "outputs": [],
   "source": [
    "n_measures = int(full_data[:,1].max())\n",
    "n_timeseries = int(full_data[:,0].max())"
   ]
  },
  {
   "cell_type": "markdown",
   "metadata": {},
   "source": [
    "### Normalize "
   ]
  },
  {
   "cell_type": "code",
   "execution_count": 5,
   "metadata": {},
   "outputs": [],
   "source": [
    "# Load Scaler\n",
    "\n",
    "with open('Kernel/scaler__{}.pkl'.format(input_id), 'rb') as f:\n",
    "    scaler = pickle.load(f)"
   ]
  },
  {
   "cell_type": "code",
   "execution_count": 6,
   "metadata": {},
   "outputs": [
    {
     "data": {
      "text/html": [
       "<div>\n",
       "<style scoped>\n",
       "    .dataframe tbody tr th:only-of-type {\n",
       "        vertical-align: middle;\n",
       "    }\n",
       "\n",
       "    .dataframe tbody tr th {\n",
       "        vertical-align: top;\n",
       "    }\n",
       "\n",
       "    .dataframe thead th {\n",
       "        text-align: right;\n",
       "    }\n",
       "</style>\n",
       "<table border=\"1\" class=\"dataframe\">\n",
       "  <thead>\n",
       "    <tr style=\"text-align: right;\">\n",
       "      <th></th>\n",
       "      <th>id</th>\n",
       "      <th>time</th>\n",
       "      <th>voltage_A</th>\n",
       "      <th>voltage_B</th>\n",
       "      <th>voltage_C</th>\n",
       "      <th>current_A</th>\n",
       "      <th>current_B</th>\n",
       "      <th>current_C</th>\n",
       "    </tr>\n",
       "  </thead>\n",
       "  <tbody>\n",
       "    <tr>\n",
       "      <th>0</th>\n",
       "      <td>9.0</td>\n",
       "      <td>1.0</td>\n",
       "      <td>0.514085</td>\n",
       "      <td>0.456</td>\n",
       "      <td>0.503546</td>\n",
       "      <td>0.482490</td>\n",
       "      <td>0.379213</td>\n",
       "      <td>0.623131</td>\n",
       "    </tr>\n",
       "    <tr>\n",
       "      <th>1</th>\n",
       "      <td>9.0</td>\n",
       "      <td>2.0</td>\n",
       "      <td>0.514085</td>\n",
       "      <td>0.432</td>\n",
       "      <td>0.482270</td>\n",
       "      <td>0.483139</td>\n",
       "      <td>0.492777</td>\n",
       "      <td>0.492522</td>\n",
       "    </tr>\n",
       "    <tr>\n",
       "      <th>2</th>\n",
       "      <td>9.0</td>\n",
       "      <td>3.0</td>\n",
       "      <td>0.535211</td>\n",
       "      <td>0.448</td>\n",
       "      <td>0.503546</td>\n",
       "      <td>0.502270</td>\n",
       "      <td>0.526083</td>\n",
       "      <td>0.653041</td>\n",
       "    </tr>\n",
       "    <tr>\n",
       "      <th>3</th>\n",
       "      <td>9.0</td>\n",
       "      <td>4.0</td>\n",
       "      <td>0.514085</td>\n",
       "      <td>0.448</td>\n",
       "      <td>0.503546</td>\n",
       "      <td>0.511025</td>\n",
       "      <td>0.510433</td>\n",
       "      <td>0.701562</td>\n",
       "    </tr>\n",
       "    <tr>\n",
       "      <th>4</th>\n",
       "      <td>9.0</td>\n",
       "      <td>5.0</td>\n",
       "      <td>0.514085</td>\n",
       "      <td>0.448</td>\n",
       "      <td>0.503546</td>\n",
       "      <td>0.114137</td>\n",
       "      <td>0.459872</td>\n",
       "      <td>0.601529</td>\n",
       "    </tr>\n",
       "  </tbody>\n",
       "</table>\n",
       "</div>"
      ],
      "text/plain": [
       "    id  time  voltage_A  voltage_B  voltage_C  current_A  current_B  current_C\n",
       "0  9.0   1.0   0.514085      0.456   0.503546   0.482490   0.379213   0.623131\n",
       "1  9.0   2.0   0.514085      0.432   0.482270   0.483139   0.492777   0.492522\n",
       "2  9.0   3.0   0.535211      0.448   0.503546   0.502270   0.526083   0.653041\n",
       "3  9.0   4.0   0.514085      0.448   0.503546   0.511025   0.510433   0.701562\n",
       "4  9.0   5.0   0.514085      0.448   0.503546   0.114137   0.459872   0.601529"
      ]
     },
     "execution_count": 6,
     "metadata": {},
     "output_type": "execute_result"
    }
   ],
   "source": [
    "info = full_data[:,0:2] # [id, time]\n",
    "data = full_data[:,2:-1] # [Voltage A, Voltage B, Voltage C, Current A, Current B, Current C]\n",
    "target = full_data[::n_measures,-1] # [Target]\n",
    "\n",
    "L, W = full_data.shape\n",
    "\n",
    "# Normalizing each column within (0,1)\n",
    "data = scaler.transform(data)\n",
    "\n",
    "columns = ['id', 'time', 'voltage_A', 'voltage_B', 'voltage_C', 'current_A', 'current_B', 'current_C']\n",
    "df = pd.DataFrame(np.concatenate((info,data), axis=1), columns=columns)\n",
    "\n",
    "df.head()\n"
   ]
  },
  {
   "cell_type": "markdown",
   "metadata": {},
   "source": [
    "### Feature Extraction"
   ]
  },
  {
   "cell_type": "code",
   "execution_count": 7,
   "metadata": {},
   "outputs": [],
   "source": [
    "with open('Kernel/kind_to_fc_parameters_{}.pkl'.format(input_id), 'rb') as f:\n",
    "    kind_to_fc_parameters = pickle.load(f)\n",
    "    \n",
    "with open('Kernel/columns_{}.pkl'.format(input_id), 'rb') as f:\n",
    "        original_columns = pickle.load(f)\n",
    "    "
   ]
  },
  {
   "cell_type": "code",
   "execution_count": 8,
   "metadata": {},
   "outputs": [
    {
     "name": "stderr",
     "output_type": "stream",
     "text": [
      "Feature Extraction: 100%|██████████| 178/178 [01:19<00:00,  2.24it/s]\n",
      "Feature Extraction: 100%|██████████| 178/178 [00:42<00:00,  4.16it/s]\n",
      "Feature Extraction: 100%|██████████| 178/178 [01:34<00:00,  1.88it/s]\n",
      "Feature Extraction: 100%|██████████| 178/178 [00:45<00:00,  3.90it/s]\n",
      "Feature Extraction: 100%|██████████| 178/178 [01:22<00:00,  2.15it/s]\n",
      "Feature Extraction: 100%|██████████| 178/178 [01:25<00:00,  2.08it/s]\n"
     ]
    }
   ],
   "source": [
    "columns = []\n",
    "    \n",
    "for i,x in enumerate(kind_to_fc_parameters):\n",
    "    aux = pd.DataFrame(np.hstack((df.loc[:,:'time'].values,\n",
    "                        df.loc[:,x].values.reshape((-1,1)))),\n",
    "                        columns=['id','time',x])\n",
    "        \n",
    "    aux2 = tsfresh.extract_features(aux, column_id=\"id\", column_sort=\"time\",\n",
    "                                    default_fc_parameters=kind_to_fc_parameters[x],\n",
    "                                    n_jobs=0\n",
    "                                    )\n",
    "    for j in range(len(aux2.columns.tolist())):columns.append(aux2.columns.tolist()[j])\n",
    "\n",
    "    if i == 0:\n",
    "        extracted_features = np.array(aux2.values)\n",
    "    else:\n",
    "        extracted_features = np.hstack((extracted_features,aux2.values))\n",
    "\n",
    "final_features = pd.DataFrame(extracted_features,columns=columns)\n",
    "final_features = impute(final_features[original_columns])"
   ]
  },
  {
   "cell_type": "markdown",
   "metadata": {},
   "source": [
    "### PCA Projection"
   ]
  },
  {
   "cell_type": "code",
   "execution_count": 9,
   "metadata": {},
   "outputs": [],
   "source": [
    "with open('Kernel/pca_scaler_{}.pkl'.format(input_id), 'rb') as f:\n",
    "    pca_scaler = pickle.load(f)\n",
    "    \n",
    "with open('Kernel/pca_{}.pkl'.format(input_id), 'rb') as f:\n",
    "    pca = pickle.load(f)"
   ]
  },
  {
   "cell_type": "code",
   "execution_count": 10,
   "metadata": {},
   "outputs": [],
   "source": [
    "scaled_features = pca_scaler.transform(final_features)\n",
    "\n",
    "reduced_features = pca.transform(scaled_features)"
   ]
  },
  {
   "cell_type": "markdown",
   "metadata": {},
   "source": [
    "### Classification"
   ]
  },
  {
   "cell_type": "code",
   "execution_count": 11,
   "metadata": {},
   "outputs": [],
   "source": [
    "with open('Kernel/Classifier_{}.pkl'.format(input_id), 'rb') as f:\n",
    "    clf = pickle.load(f)"
   ]
  },
  {
   "cell_type": "code",
   "execution_count": 13,
   "metadata": {},
   "outputs": [],
   "source": [
    "y_pred = clf.predict(reduced_features)"
   ]
  },
  {
   "cell_type": "code",
   "execution_count": 17,
   "metadata": {},
   "outputs": [],
   "source": [
    "score = clf.score(reduced_features, target)\n",
    "Accuracy = score*100\n",
    "Precision = precision_score(target, y_pred, zero_division=0)*100\n",
    "Recall = recall_score(target, y_pred, zero_division=0)*100\n",
    "F1 = f1_score(target, y_pred, zero_division=0)*100"
   ]
  },
  {
   "cell_type": "code",
   "execution_count": 18,
   "metadata": {},
   "outputs": [
    {
     "name": "stdout",
     "output_type": "stream",
     "text": [
      "Accuracy:  100.00%\n",
      "Precision: 100.00%\n",
      "Recall:    100.00%\n",
      "F1:        100.00%\n"
     ]
    }
   ],
   "source": [
    "print(\"Accuracy:  {:5.2f}%\".format(Accuracy))\n",
    "print(\"Precision: {:5.2f}%\".format(Precision))\n",
    "print(\"Recall:    {:5.2f}%\".format(Recall))\n",
    "print(\"F1:        {:5.2f}%\".format(F1))"
   ]
  },
  {
   "cell_type": "code",
   "execution_count": 33,
   "metadata": {},
   "outputs": [
    {
     "data": {
      "text/plain": [
       "[]"
      ]
     },
     "execution_count": 33,
     "metadata": {},
     "output_type": "execute_result"
    },
    {
     "data": {
      "image/png": "[encoded data removed]",
      "text/plain": [
       "<Figure size 1152x720 with 2 Axes>"
      ]
     },
     "metadata": {
      "needs_background": "light"
     },
     "output_type": "display_data"
    }
   ],
   "source": [
    "fig, ax = plt.subplots(figsize=(16, 10))\n",
    "plt.rcParams.update({'font.size': 16})\n",
    "plot_confusion_matrix(clf, reduced_features, target,cmap=plt.cm.Blues,\n",
    "                                 display_labels=['Adequate Condition', 'Inadequate Condition'],\n",
    "                                                             ax=ax)\n",
    "plt.plot()"
   ]
  },
  {
   "cell_type": "code",
   "execution_count": null,
   "metadata": {},
   "outputs": [],
   "source": []
  }
 ],
 "metadata": {
  "kernelspec": {
   "display_name": "Python 3",
   "language": "python",
   "name": "python3"
  },
  "language_info": {
   "codemirror_mode": {
    "name": "ipython",
    "version": 3
   },
   "file_extension": ".py",
   "mimetype": "text/x-python",
   "name": "python",
   "nbconvert_exporter": "python",
   "pygments_lexer": "ipython3",
   "version": "3.7.6"
  }
 },
 "nbformat": 4,
 "nbformat_minor": 4
}
