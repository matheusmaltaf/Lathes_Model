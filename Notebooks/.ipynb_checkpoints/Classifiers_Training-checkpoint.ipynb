{
 "cells": [
  {
   "cell_type": "markdown",
   "metadata": {},
   "source": [
    "# Classifiers Training"
   ]
  },
  {
   "cell_type": "code",
   "execution_count": null,
   "metadata": {},
   "outputs": [],
   "source": [
    "import numpy as np\n",
    "import pandas as pd\n",
    "import pickle\n",
    "from sklearn.neural_network import MLPClassifier\n",
    "from sklearn.neighbors import KNeighborsClassifier\n",
    "from sklearn.svm import SVC\n",
    "from sklearn.gaussian_process import GaussianProcessClassifier\n",
    "from sklearn.gaussian_process.kernels import RBF\n",
    "from sklearn.tree import DecisionTreeClassifier\n",
    "from sklearn.ensemble import RandomForestClassifier, AdaBoostClassifier\n",
    "from sklearn.naive_bayes import GaussianNB\n",
    "from sklearn.discriminant_analysis import QuadraticDiscriminantAnalysis\n",
    "from sklearn.metrics import recall_score, f1_score, precision_score"
   ]
  },
  {
   "cell_type": "markdown",
   "metadata": {},
   "source": [
    "The *input_id* corresponds to the dataset used in this analysis. (See *Input* directory for more information)"
   ]
  },
  {
   "cell_type": "code",
   "execution_count": null,
   "metadata": {},
   "outputs": [],
   "source": [
    "input_id = 1"
   ]
  },
  {
   "cell_type": "markdown",
   "metadata": {},
   "source": [
    "### Load Reduced Features"
   ]
  },
  {
   "cell_type": "code",
   "execution_count": null,
   "metadata": {},
   "outputs": [],
   "source": [
    "with open('Kernel/reduced_features_{}.pkl'.format(input_id), 'rb') as f:\n",
    "    reduced_features = pickle.load(f)"
   ]
  },
  {
   "cell_type": "markdown",
   "metadata": {},
   "source": [
    "### Load GA_parameters"
   ]
  },
  {
   "cell_type": "code",
   "execution_count": null,
   "metadata": {},
   "outputs": [],
   "source": [
    "with open('Kernel/GA_parameters_{}.pkl'.format(input_id), 'rb') as f:\n",
    "    GA_parameters = pickle.load(f)"
   ]
  },
  {
   "cell_type": "markdown",
   "metadata": {},
   "source": [
    "### Load Original Target"
   ]
  },
  {
   "cell_type": "code",
   "execution_count": null,
   "metadata": {},
   "outputs": [],
   "source": [
    "with open('Kernel/final_target_{}.pkl'.format(input_id), 'rb') as f:\n",
    "    target = pickle.load(f)"
   ]
  },
  {
   "cell_type": "markdown",
   "metadata": {},
   "source": [
    "### Classifiers Train"
   ]
  },
  {
   "cell_type": "code",
   "execution_count": null,
   "metadata": {},
   "outputs": [],
   "source": [
    "# Initialize Classifiers\n",
    "\n",
    "classifiers = [\n",
    "        KNeighborsClassifier(3),\n",
    "        SVC(gamma='scale'),\n",
    "        SVC(gamma=2, C=1),\n",
    "        GaussianProcessClassifier(1.0 * RBF(1.0)),\n",
    "        DecisionTreeClassifier(),\n",
    "        RandomForestClassifier(n_estimators=100),\n",
    "        MLPClassifier(alpha=1,max_iter=500),\n",
    "        AdaBoostClassifier(),\n",
    "        GaussianNB(),\n",
    "        QuadraticDiscriminantAnalysis()]\n",
    "\n",
    "classifiers_names = [\n",
    "        'Nearest Neighbors',\n",
    "        'Linear SVM',\n",
    "        'RBF SVM',\n",
    "        'Gaussian Process',\n",
    "        'Decision Tree',\n",
    "        'Random Forest',\n",
    "        'Neural Net',\n",
    "        'AdaBoost',\n",
    "        'Naive Bayes',\n",
    "        'QDA'\n",
    "        ]"
   ]
  },
  {
   "cell_type": "code",
   "execution_count": null,
   "metadata": {},
   "outputs": [],
   "source": [
    "results_dict = {}\n",
    "\n",
    "for gra in GA_parameters:\n",
    "    print('-------------------------------------')\n",
    "    print(gra)\n",
    "\n",
    "    results_dict[gra] = {\n",
    "        'Nearest Neighbors':{},\n",
    "        'Linear SVM':{},\n",
    "        'RBF SVM':{},\n",
    "        'Gaussian Process':{},\n",
    "        'Decision Tree':{},\n",
    "        'Random Forest':{},\n",
    "        'Neural Net':{},\n",
    "        'AdaBoost':{},\n",
    "        'Naive Bayes':{},\n",
    "        'QDA':{}\n",
    "        }\n",
    "\n",
    "    # preprocess dataset, split into training and test part\n",
    "    Accuracy = np.zeros((len(classifiers)))\n",
    "    Precision = np.zeros((len(classifiers)))\n",
    "    Recall = np.zeros((len(classifiers)))\n",
    "    F1 = np.zeros((len(classifiers)))\n",
    "\n",
    "    y_train = GA_parameters[gra]\n",
    "        \n",
    "    # iterate over classifiers\n",
    "\n",
    "    for name, clf in zip(results_dict[gra], classifiers):\n",
    "        results_dict[gra][name] = {\n",
    "                'metrics':{\n",
    "                    'Accuracy': 0,\n",
    "                    'Precision':0,\n",
    "                    'Recall':0,\n",
    "                    'F1':0\n",
    "                },\n",
    "                'predict':0\n",
    "            }\n",
    "        try:\n",
    "            clf.fit(reduced_features, y_train)\n",
    "            score = clf.score(reduced_features, target)\n",
    "            results_dict[gra][name]['predict'] = y_predict = list(clf.predict(reduced_features))\n",
    "            results_dict[gra][name]['metrics']['Accuracy'] = score\n",
    "            results_dict[gra][name]['metrics']['Precision'] = precision_score(target, y_predict,zero_division=0)\n",
    "            results_dict[gra][name]['metrics']['Recall'] = recall_score(target, y_predict,zero_division=0)\n",
    "            results_dict[gra][name]['metrics']['F1'] = f1_score(target, y_predict,zero_division=0)\n",
    "            \n",
    "        except:\n",
    "            results_dict[gra]= 'Error: Only one class'\n",
    "            break"
   ]
  },
  {
   "cell_type": "code",
   "execution_count": null,
   "metadata": {},
   "outputs": [],
   "source": [
    "df = pd.DataFrame()\n",
    "\n",
    "for gra in results_dict.keys():\n",
    "    if type(results_dict[gra]) != str:\n",
    "        n_classifiers = len(results_dict[gra].keys())\n",
    "        for clf in results_dict[gra].keys():\n",
    "            aux_dict = results_dict[gra][clf]['metrics']\n",
    "            aux_dict['Granularity'] = int(gra.split('_')[-1])\n",
    "            aux_dict['Classifier'] = clf\n",
    "            df = df.append(aux_dict, ignore_index=True)\n",
    "\n",
    "df = df.set_index(['Classifier', 'Granularity'])*100\n"
   ]
  },
  {
   "cell_type": "code",
   "execution_count": null,
   "metadata": {
    "scrolled": true
   },
   "outputs": [],
   "source": [
    "gra_list = [int(x[-1]) for x in GA_parameters.keys()]"
   ]
  },
  {
   "cell_type": "code",
   "execution_count": null,
   "metadata": {},
   "outputs": [],
   "source": [
    "df"
   ]
  },
  {
   "cell_type": "code",
   "execution_count": null,
   "metadata": {},
   "outputs": [],
   "source": [
    "df.to_csv('Classification/results__{}__min_gra_{}__max_gra__{}.csv'.format(input_id, min(gra_list), max(gra_list)))"
   ]
  },
  {
   "cell_type": "markdown",
   "metadata": {},
   "source": [
    "### Chose Granularity and Classifier Model for Online Stage"
   ]
  },
  {
   "cell_type": "code",
   "execution_count": null,
   "metadata": {},
   "outputs": [],
   "source": [
    "Granularity = 4\n",
    "Model = 'Neural Net'"
   ]
  },
  {
   "cell_type": "code",
   "execution_count": null,
   "metadata": {},
   "outputs": [],
   "source": [
    "X = reduced_features\n",
    "y = GA_parameters['granularity_{}'.format(Granularity)]"
   ]
  },
  {
   "cell_type": "code",
   "execution_count": null,
   "metadata": {},
   "outputs": [],
   "source": [
    "idx = classifiers_names.index(Model)"
   ]
  },
  {
   "cell_type": "code",
   "execution_count": null,
   "metadata": {},
   "outputs": [],
   "source": [
    "clf = classifiers[idx]\n",
    "\n",
    "clf.fit(X, y)"
   ]
  },
  {
   "cell_type": "code",
   "execution_count": null,
   "metadata": {},
   "outputs": [],
   "source": [
    "with open('Kernel/Classifier_{}.pkl'.format(input_id), 'wb') as f:\n",
    "    pickle.dump(clf, f)"
   ]
  },
  {
   "cell_type": "code",
   "execution_count": 12,
   "metadata": {},
   "outputs": [],
   "source": [
    "def foo():\n",
    "    try:\n",
    "        return a\n",
    "    except:\n",
    "        raise Exception('Model not fitted!')"
   ]
  },
  {
   "cell_type": "code",
   "execution_count": 13,
   "metadata": {},
   "outputs": [
    {
     "ename": "Exception",
     "evalue": "Model not fitted",
     "output_type": "error",
     "traceback": [
      "\u001b[0;31m---------------------------------------------------------------------------\u001b[0m",
      "\u001b[0;31mNameError\u001b[0m                                 Traceback (most recent call last)",
      "\u001b[0;32m<ipython-input-12-f8251e4d0779>\u001b[0m in \u001b[0;36mfoo\u001b[0;34m()\u001b[0m\n\u001b[1;32m      2\u001b[0m     \u001b[0;32mtry\u001b[0m\u001b[0;34m:\u001b[0m\u001b[0;34m\u001b[0m\u001b[0;34m\u001b[0m\u001b[0m\n\u001b[0;32m----> 3\u001b[0;31m         \u001b[0;32mreturn\u001b[0m \u001b[0ma\u001b[0m\u001b[0;34m\u001b[0m\u001b[0;34m\u001b[0m\u001b[0m\n\u001b[0m\u001b[1;32m      4\u001b[0m     \u001b[0;32mexcept\u001b[0m\u001b[0;34m:\u001b[0m\u001b[0;34m\u001b[0m\u001b[0;34m\u001b[0m\u001b[0m\n",
      "\u001b[0;31mNameError\u001b[0m: name 'a' is not defined",
      "\nDuring handling of the above exception, another exception occurred:\n",
      "\u001b[0;31mException\u001b[0m                                 Traceback (most recent call last)",
      "\u001b[0;32m<ipython-input-13-cd2a7b050153>\u001b[0m in \u001b[0;36m<module>\u001b[0;34m\u001b[0m\n\u001b[0;32m----> 1\u001b[0;31m \u001b[0mb\u001b[0m \u001b[0;34m=\u001b[0m \u001b[0mfoo\u001b[0m\u001b[0;34m(\u001b[0m\u001b[0;34m)\u001b[0m\u001b[0;34m\u001b[0m\u001b[0;34m\u001b[0m\u001b[0m\n\u001b[0m",
      "\u001b[0;32m<ipython-input-12-f8251e4d0779>\u001b[0m in \u001b[0;36mfoo\u001b[0;34m()\u001b[0m\n\u001b[1;32m      3\u001b[0m         \u001b[0;32mreturn\u001b[0m \u001b[0ma\u001b[0m\u001b[0;34m\u001b[0m\u001b[0;34m\u001b[0m\u001b[0m\n\u001b[1;32m      4\u001b[0m     \u001b[0;32mexcept\u001b[0m\u001b[0;34m:\u001b[0m\u001b[0;34m\u001b[0m\u001b[0;34m\u001b[0m\u001b[0m\n\u001b[0;32m----> 5\u001b[0;31m         \u001b[0;32mraise\u001b[0m \u001b[0mException\u001b[0m\u001b[0;34m(\u001b[0m\u001b[0;34m'Model not fitted'\u001b[0m\u001b[0;34m)\u001b[0m\u001b[0;34m\u001b[0m\u001b[0;34m\u001b[0m\u001b[0m\n\u001b[0m",
      "\u001b[0;31mException\u001b[0m: Model not fitted"
     ]
    }
   ],
   "source": [
    "b = foo()"
   ]
  },
  {
   "cell_type": "code",
   "execution_count": 7,
   "metadata": {},
   "outputs": [],
   "source": [
    "b"
   ]
  },
  {
   "cell_type": "code",
   "execution_count": null,
   "metadata": {},
   "outputs": [],
   "source": []
  }
 ],
 "metadata": {
  "kernelspec": {
   "display_name": "Python 3",
   "language": "python",
   "name": "python3"
  },
  "language_info": {
   "codemirror_mode": {
    "name": "ipython",
    "version": 3
   },
   "file_extension": ".py",
   "mimetype": "text/x-python",
   "name": "python",
   "nbconvert_exporter": "python",
   "pygments_lexer": "ipython3",
   "version": "3.7.6"
  }
 },
 "nbformat": 4,
 "nbformat_minor": 4
}
