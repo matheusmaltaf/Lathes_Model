{
 "cells": [
  {
   "cell_type": "code",
   "execution_count": 1,
   "metadata": {},
   "outputs": [],
   "source": [
    "import numpy as np\n",
    "import pandas as pd\n",
    "from lathes_model import LathesModel, Lathes_train_test_split"
   ]
  },
  {
   "cell_type": "markdown",
   "metadata": {},
   "source": [
    "# Carregar base de dados"
   ]
  },
  {
   "cell_type": "code",
   "execution_count": 2,
   "metadata": {},
   "outputs": [
    {
     "data": {
      "text/plain": [
       "(444000, 9)"
      ]
     },
     "execution_count": 2,
     "metadata": {},
     "output_type": "execute_result"
    }
   ],
   "source": [
    "input_id = 1\n",
    "INPUT_PATH = 'Input/Input_%i.csv' %input_id\n",
    "\n",
    "data = np.genfromtxt(INPUT_PATH, delimiter=',')\n",
    "\n",
    "data.shape"
   ]
  },
  {
   "cell_type": "markdown",
   "metadata": {},
   "source": [
    "Dividir base em treino e teste"
   ]
  },
  {
   "cell_type": "code",
   "execution_count": 3,
   "metadata": {},
   "outputs": [
    {
     "name": "stdout",
     "output_type": "stream",
     "text": [
      "X_train shape: (310500, 8)\n",
      "y_train shape: (310500,)\n",
      "X_test shape: (133500, 8)\n",
      "y_test shape: (133500,)\n"
     ]
    }
   ],
   "source": [
    "X = data[:,:-1]\n",
    "y = data[:,-1]\n",
    "\n",
    "X_train, X_test, yy_train, yy_test = Lathes_train_test_split(X, y, test_size=0.3, random_state=12)\n",
    "\n",
    "print('X_train shape:', X_train.shape)\n",
    "print('y_train shape:', yy_train.shape)\n",
    "print('X_test shape:', X_test.shape)\n",
    "print('y_test shape:', yy_test.shape)"
   ]
  },
  {
   "cell_type": "markdown",
   "metadata": {},
   "source": [
    "Inicializar modelo"
   ]
  },
  {
   "cell_type": "code",
   "execution_count": 4,
   "metadata": {},
   "outputs": [],
   "source": [
    "params = {'N_PCs':3,\n",
    "          'granularity':4,\n",
    "          'n_jobs':0}\n",
    "\n",
    "model = LathesModel(**params)"
   ]
  },
  {
   "cell_type": "markdown",
   "metadata": {},
   "source": [
    "# Treinar o modelo"
   ]
  },
  {
   "cell_type": "code",
   "execution_count": 5,
   "metadata": {
    "scrolled": true
   },
   "outputs": [
    {
     "name": "stderr",
     "output_type": "stream",
     "text": [
      "Feature Extraction: 100%|██████████| 2484/2484 [19:29<00:00,  2.12it/s]\n"
     ]
    }
   ],
   "source": [
    "model.fit(X_train, yy_train)"
   ]
  },
  {
   "cell_type": "markdown",
   "metadata": {},
   "source": [
    "# Prever"
   ]
  },
  {
   "cell_type": "code",
   "execution_count": 6,
   "metadata": {
    "scrolled": true
   },
   "outputs": [
    {
     "name": "stderr",
     "output_type": "stream",
     "text": [
      "Feature Extraction: 100%|██████████| 178/178 [01:07<00:00,  2.65it/s]\n",
      "Feature Extraction: 100%|██████████| 178/178 [00:26<00:00,  6.67it/s]\n",
      "Feature Extraction: 100%|██████████| 178/178 [01:14<00:00,  2.39it/s]\n",
      "Feature Extraction: 100%|██████████| 178/178 [00:30<00:00,  5.83it/s]\n",
      "Feature Extraction: 100%|██████████| 178/178 [01:08<00:00,  2.62it/s]\n",
      "Feature Extraction: 100%|██████████| 178/178 [01:11<00:00,  2.49it/s]\n"
     ]
    }
   ],
   "source": [
    "y_pred = model.predict(X_test)"
   ]
  },
  {
   "cell_type": "markdown",
   "metadata": {},
   "source": [
    "# Fuzzy Classifier"
   ]
  },
  {
   "cell_type": "code",
   "execution_count": 7,
   "metadata": {},
   "outputs": [],
   "source": [
    "from fuzzy_system.fuzzy_learning_system import FuzzyLearningSystem"
   ]
  },
  {
   "cell_type": "code",
   "execution_count": 8,
   "metadata": {},
   "outputs": [],
   "source": [
    "learning_system = FuzzyLearningSystem(res=100)"
   ]
  },
  {
   "cell_type": "code",
   "execution_count": 9,
   "metadata": {},
   "outputs": [],
   "source": [
    "fuzzy_X_train = pd.DataFrame(model.X_projected_, columns=['PC_{}'.format(i) for i in range(1,model.N_PCs_ + 1)])\n",
    "fuzzy_y_train = pd.DataFrame(model.classifiers_label_, columns=['Condition'])"
   ]
  },
  {
   "cell_type": "code",
   "execution_count": 10,
   "metadata": {},
   "outputs": [],
   "source": [
    "learning_system.fit(fuzzy_X_train, fuzzy_y_train, X_n=[2,2,2], y_n=2)"
   ]
  },
  {
   "cell_type": "code",
   "execution_count": 11,
   "metadata": {},
   "outputs": [],
   "source": [
    "fuzzy_X_test = pd.DataFrame(model.X_test_projected_, columns=['PC_{}'.format(i) for i in range(1,model.N_PCs_ + 1)])"
   ]
  },
  {
   "cell_type": "code",
   "execution_count": 12,
   "metadata": {},
   "outputs": [],
   "source": [
    "y_predict = []\n",
    "cont = 0\n",
    "for idx in fuzzy_X_test.index:\n",
    "    a = learning_system.get_result(fuzzy_X_test.loc[idx].to_dict())\n",
    "    try:\n",
    "        y_predict.append(int(np.round(a['Condition'])))\n",
    "    except:\n",
    "        cont += 1\n",
    "        #y_predict.append(np.random.randint(2, size=1))\n",
    "        y_predict.append(0)"
   ]
  },
  {
   "cell_type": "code",
   "execution_count": 13,
   "metadata": {},
   "outputs": [],
   "source": [
    "df = pd.DataFrame(np.zeros((2,4)), columns=['Accuracy', 'Precision', 'Recall', 'F1'], index=['Neural Net', 'Fuzzy'])"
   ]
  },
  {
   "cell_type": "code",
   "execution_count": 14,
   "metadata": {},
   "outputs": [],
   "source": [
    "tn = 0\n",
    "tp = 0\n",
    "fn = 0\n",
    "fp = 0\n",
    "for y_p,y_o in zip(y_predict, yy_test[::model.n_measures_]):\n",
    "    if y_p == y_o == 0:\n",
    "        tn += 1\n",
    "    elif y_p == y_o == 1:\n",
    "        tp += 1\n",
    "    elif y_p == 0 and y_o == 1:\n",
    "        fn += 1\n",
    "    elif y_p == 1 and y_o == 0:\n",
    "        fp += 1\n",
    "                        \n",
    "df.loc['Fuzzy','Accuracy'] = (tn+tp)/(tn+tp+fn+fp)*100\n",
    "df.loc['Fuzzy','Precision'] = tp/(tp + fp)*100\n",
    "df.loc['Fuzzy','Recall'] = tp/(tp+fn)*100\n",
    "df.loc['Fuzzy','F1'] = 2*(df.loc['Fuzzy','Precision']*df.loc['Fuzzy','Recall'])/(df.loc['Fuzzy','Precision']+df.loc['Fuzzy','Recall'])"
   ]
  },
  {
   "cell_type": "code",
   "execution_count": 15,
   "metadata": {},
   "outputs": [],
   "source": [
    "tn = 0\n",
    "tp = 0\n",
    "fn = 0\n",
    "fp = 0\n",
    "for y_p,y_o in zip(y_pred, yy_test[::model.n_measures_]):\n",
    "    if y_p == y_o == 0:\n",
    "        tn += 1\n",
    "    elif y_p == y_o == 1:\n",
    "        tp += 1\n",
    "    elif y_p == 0 and y_o == 1:\n",
    "        fn += 1\n",
    "    elif y_p == 1 and y_o == 0:\n",
    "        fp += 1\n",
    "                        \n",
    "df.loc['Neural Net','Accuracy'] = (tn+tp)/(tn+tp+fn+fp)*100\n",
    "df.loc['Neural Net','Precision'] = tp/(tp + fp)*100\n",
    "df.loc['Neural Net','Recall'] = tp/(tp+fn)*100\n",
    "df.loc['Neural Net','F1'] = 2*(df.loc['Neural Net','Precision']*df.loc['Neural Net','Recall'])/(df.loc['Neural Net','Precision']+df.loc['Neural Net','Recall'])"
   ]
  },
  {
   "cell_type": "code",
   "execution_count": 16,
   "metadata": {},
   "outputs": [
    {
     "data": {
      "text/html": [
       "<div>\n",
       "<style scoped>\n",
       "    .dataframe tbody tr th:only-of-type {\n",
       "        vertical-align: middle;\n",
       "    }\n",
       "\n",
       "    .dataframe tbody tr th {\n",
       "        vertical-align: top;\n",
       "    }\n",
       "\n",
       "    .dataframe thead th {\n",
       "        text-align: right;\n",
       "    }\n",
       "</style>\n",
       "<table border=\"1\" class=\"dataframe\">\n",
       "  <thead>\n",
       "    <tr style=\"text-align: right;\">\n",
       "      <th></th>\n",
       "      <th>Accuracy</th>\n",
       "      <th>Precision</th>\n",
       "      <th>Recall</th>\n",
       "      <th>F1</th>\n",
       "    </tr>\n",
       "  </thead>\n",
       "  <tbody>\n",
       "    <tr>\n",
       "      <th>Neural Net</th>\n",
       "      <td>100.000000</td>\n",
       "      <td>100.0</td>\n",
       "      <td>100.000000</td>\n",
       "      <td>100.00000</td>\n",
       "    </tr>\n",
       "    <tr>\n",
       "      <th>Fuzzy</th>\n",
       "      <td>71.348315</td>\n",
       "      <td>100.0</td>\n",
       "      <td>29.166667</td>\n",
       "      <td>45.16129</td>\n",
       "    </tr>\n",
       "  </tbody>\n",
       "</table>\n",
       "</div>"
      ],
      "text/plain": [
       "              Accuracy  Precision      Recall         F1\n",
       "Neural Net  100.000000      100.0  100.000000  100.00000\n",
       "Fuzzy        71.348315      100.0   29.166667   45.16129"
      ]
     },
     "execution_count": 16,
     "metadata": {},
     "output_type": "execute_result"
    }
   ],
   "source": [
    "df"
   ]
  },
  {
   "cell_type": "code",
   "execution_count": 17,
   "metadata": {},
   "outputs": [],
   "source": [
    "learning_system.generate_rules_csv(\"rules.csv\")"
   ]
  },
  {
   "cell_type": "code",
   "execution_count": 18,
   "metadata": {
    "scrolled": true
   },
   "outputs": [
    {
     "name": "stdout",
     "output_type": "stream",
     "text": [
      "Input: \n",
      "PC_1: (s3, s2, b3)\n",
      "PC_2: (s3, s2, b3)\n",
      "PC_3: (s3, s2, b3)\n",
      "Output: \n",
      "Condition: (s2, b2)\n",
      "Rules: \n",
      "If PC_1 is s2 and PC_2 is s2 and PC_3 is s3 then Condition is b2\n",
      "If PC_1 is s3 and PC_2 is s2 and PC_3 is s3 then Condition is b2\n",
      "If PC_1 is s3 and PC_2 is s2 and PC_3 is s2 then Condition is b2\n",
      "If PC_1 is s2 and PC_2 is s2 and PC_3 is s2 then Condition is b2\n",
      "If PC_1 is s2 and PC_2 is s3 and PC_3 is s3 then Condition is b2\n",
      "If PC_1 is s3 and PC_2 is s3 and PC_3 is s3 then Condition is b2\n",
      "If PC_1 is s2 and PC_2 is s2 and PC_3 is b3 then Condition is b2\n",
      "If PC_1 is s2 and PC_2 is s3 and PC_3 is b3 then Condition is b2\n",
      "If PC_1 is s2 and PC_2 is s3 and PC_3 is s2 then Condition is b2\n",
      "If PC_1 is s3 and PC_2 is s3 and PC_3 is s2 then Condition is b2\n",
      "If PC_1 is s3 and PC_2 is b3 and PC_3 is s3 then Condition is s2\n",
      "If PC_1 is s2 and PC_2 is b3 and PC_3 is s3 then Condition is s2\n",
      "If PC_1 is s2 and PC_2 is b3 and PC_3 is s2 then Condition is s2\n",
      "If PC_1 is s3 and PC_2 is b3 and PC_3 is s2 then Condition is s2\n",
      "If PC_1 is s2 and PC_2 is b3 and PC_3 is b3 then Condition is s2\n",
      "If PC_1 is b3 and PC_2 is s3 and PC_3 is s2 then Condition is s2\n",
      "If PC_1 is b3 and PC_2 is s3 and PC_3 is s3 then Condition is s2\n",
      "If PC_1 is s3 and PC_2 is s2 and PC_3 is b3 then Condition is s2\n",
      "If PC_1 is b3 and PC_2 is s2 and PC_3 is s3 then Condition is s2\n",
      "If PC_1 is b3 and PC_2 is s3 and PC_3 is b3 then Condition is s2\n",
      "\n"
     ]
    }
   ],
   "source": [
    "print(str(learning_system))"
   ]
  },
  {
   "cell_type": "code",
   "execution_count": 19,
   "metadata": {
    "scrolled": false
   },
   "outputs": [
    {
     "data": {
      "image/png": "[encoded data removed]",
      "text/plain": [
       "<Figure size 432x288 with 1 Axes>"
      ]
     },
     "metadata": {
      "needs_background": "light"
     },
     "output_type": "display_data"
    },
    {
     "data": {
      "image/png": "[encoded data removed]",
      "text/plain": [
       "<Figure size 432x288 with 1 Axes>"
      ]
     },
     "metadata": {
      "needs_background": "light"
     },
     "output_type": "display_data"
    },
    {
     "data": {
      "image/png": "[encoded data removed]",
      "text/plain": [
       "<Figure size 432x288 with 1 Axes>"
      ]
     },
     "metadata": {
      "needs_background": "light"
     },
     "output_type": "display_data"
    },
    {
     "data": {
      "image/png": "[encoded data removed]",
      "text/plain": [
       "<Figure size 432x288 with 1 Axes>"
      ]
     },
     "metadata": {
      "needs_background": "light"
     },
     "output_type": "display_data"
    }
   ],
   "source": [
    "learning_system.plot_variables()"
   ]
  },
  {
   "cell_type": "code",
   "execution_count": null,
   "metadata": {},
   "outputs": [],
   "source": []
  },
  {
   "cell_type": "code",
   "execution_count": null,
   "metadata": {},
   "outputs": [],
   "source": []
  }
 ],
 "metadata": {
  "kernelspec": {
   "display_name": "Python 3 (ipykernel)",
   "language": "python",
   "name": "python3"
  },
  "language_info": {
   "codemirror_mode": {
    "name": "ipython",
    "version": 3
   },
   "file_extension": ".py",
   "mimetype": "text/x-python",
   "name": "python",
   "nbconvert_exporter": "python",
   "pygments_lexer": "ipython3",
   "version": "3.7.6"
  }
 },
 "nbformat": 4,
 "nbformat_minor": 4
}
