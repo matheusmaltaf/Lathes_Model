{
 "cells": [
  {
   "cell_type": "code",
   "execution_count": 112,
   "metadata": {},
   "outputs": [],
   "source": [
    "import numpy as np\n",
    "import pandas as pd\n",
    "import pickle\n",
    "import os\n",
    "import seaborn as sns\n",
    "import matplotlib.pyplot as plt\n",
    "\n",
    "from matplotlib.colors import LogNorm, PowerNorm"
   ]
  },
  {
   "cell_type": "code",
   "execution_count": 167,
   "metadata": {},
   "outputs": [],
   "source": [
    "def read_dataframe(PATH, N):\n",
    "    df = pd.DataFrame()\n",
    "\n",
    "    for i in range(N):\n",
    "        results_dict = pickle.load(open(PATH %(i),'rb'))\n",
    "        for N_PCs in results_dict.keys():\n",
    "            for gra in results_dict[N_PCs].keys():\n",
    "                if type(results_dict[N_PCs][gra]) != str:\n",
    "                    n_classifiers = len(results_dict[N_PCs][gra].keys())\n",
    "                    for clf in results_dict[N_PCs][gra].keys():\n",
    "                        aux_dict = results_dict[N_PCs][gra][clf]\n",
    "                        aux_dict['N_PCs'] = N_PCs\n",
    "                        aux_dict['Granularity'] = gra\n",
    "                        aux_dict['Classifier'] = clf\n",
    "                        aux_dict['Iteration'] = i\n",
    "                        aux_dict['Time'] = results_dict[N_PCs][gra][clf]['time']\n",
    "                        df = df.append(aux_dict, ignore_index=True)\n",
    "                        \n",
    "    return df"
   ]
  },
  {
   "cell_type": "code",
   "execution_count": 162,
   "metadata": {},
   "outputs": [],
   "source": [
    "input_id = 0\n",
    "\n",
    "for st in ['union', 'intersection']:\n",
    "    for NN in [1600, 2000, 2400, 2800, 3200, 1795, 3584]:\n",
    "        for tipo in ['fft', 'tudo', 'fft_filtrado', 'tudo_filtrado']:\n",
    "            PATH = f\"Classification_{NN}_{tipo}\"\n",
    "            FILE = \"/Classifiers_result__{}__%i__{}__.pkl\".format(input_id, st)\n",
    "            RESULTS_FILE = f'results_{st}_{NN}_{tipo}.csv'\n",
    "            \n",
    "            if len(os.listdir(PATH)) == 10 and RESULTS_FILE not in os.listdir('Results/'):\n",
    "                print(RESULTS_FILE)\n",
    "                df = read_dataframe(PATH + FILE, 5)\n",
    "                \n",
    "                results_df = df.groupby(['Classifier','Granularity', 'N_PCs']).agg({'Accuracy':['mean','std'],\n",
    "                                                                    'features':['mean','std'],\n",
    "                                                                    'variation':['mean','std']})\n",
    "                \n",
    "                results_df.to_csv('Results/' + RESULTS_FILE)"
   ]
  },
  {
   "cell_type": "code",
   "execution_count": 210,
   "metadata": {},
   "outputs": [],
   "source": [
    "input_id = 0\n",
    "st = 'intersection'\n",
    "NN = 3584\n",
    "tipo = 'tudo_filtrado'\n",
    "\n",
    "PATH = \"Classification_{}_{}/Classifiers_result__{}__%i__{}__.pkl\".format(NN, tipo, input_id, st)"
   ]
  },
  {
   "cell_type": "code",
   "execution_count": 211,
   "metadata": {},
   "outputs": [],
   "source": [
    "df = read_dataframe(PATH, 3)"
   ]
  },
  {
   "cell_type": "code",
   "execution_count": 212,
   "metadata": {},
   "outputs": [],
   "source": [
    "df['Time[s]'] = df['Time'].dt.total_seconds()\n"
   ]
  },
  {
   "cell_type": "code",
   "execution_count": 213,
   "metadata": {},
   "outputs": [],
   "source": [
    "results_df = df.groupby(['Classifier','Granularity', 'N_PCs']).agg({'Accuracy':['mean','std'],\n",
    "                                                                    'features':['mean','std'],\n",
    "                                                                    'variation':['mean','std']})"
   ]
  },
  {
   "cell_type": "code",
   "execution_count": 214,
   "metadata": {},
   "outputs": [],
   "source": [
    "time_df = df.groupby(['Classifier','Granularity', 'N_PCs']).agg({'Time[s]':['mean','std']})"
   ]
  },
  {
   "cell_type": "code",
   "execution_count": 219,
   "metadata": {},
   "outputs": [
    {
     "data": {
      "text/html": [
       "<div>\n",
       "<style scoped>\n",
       "    .dataframe tbody tr th:only-of-type {\n",
       "        vertical-align: middle;\n",
       "    }\n",
       "\n",
       "    .dataframe tbody tr th {\n",
       "        vertical-align: top;\n",
       "    }\n",
       "\n",
       "    .dataframe thead tr th {\n",
       "        text-align: left;\n",
       "    }\n",
       "\n",
       "    .dataframe thead tr:last-of-type th {\n",
       "        text-align: right;\n",
       "    }\n",
       "</style>\n",
       "<table border=\"1\" class=\"dataframe\">\n",
       "  <thead>\n",
       "    <tr>\n",
       "      <th></th>\n",
       "      <th></th>\n",
       "      <th></th>\n",
       "      <th colspan=\"2\" halign=\"left\">Time[s]</th>\n",
       "    </tr>\n",
       "    <tr>\n",
       "      <th></th>\n",
       "      <th></th>\n",
       "      <th></th>\n",
       "      <th>mean</th>\n",
       "      <th>std</th>\n",
       "    </tr>\n",
       "    <tr>\n",
       "      <th>Classifier</th>\n",
       "      <th>Granularity</th>\n",
       "      <th>N_PCs</th>\n",
       "      <th></th>\n",
       "      <th></th>\n",
       "    </tr>\n",
       "  </thead>\n",
       "  <tbody>\n",
       "    <tr>\n",
       "      <th rowspan=\"5\" valign=\"top\">AdaBoost</th>\n",
       "      <th rowspan=\"4\" valign=\"top\">4.0</th>\n",
       "      <th>5.0</th>\n",
       "      <td>80.430907</td>\n",
       "      <td>59.092118</td>\n",
       "    </tr>\n",
       "    <tr>\n",
       "      <th>7.0</th>\n",
       "      <td>80.434117</td>\n",
       "      <td>59.096360</td>\n",
       "    </tr>\n",
       "    <tr>\n",
       "      <th>10.0</th>\n",
       "      <td>80.431060</td>\n",
       "      <td>59.091689</td>\n",
       "    </tr>\n",
       "    <tr>\n",
       "      <th>15.0</th>\n",
       "      <td>80.431826</td>\n",
       "      <td>59.092407</td>\n",
       "    </tr>\n",
       "    <tr>\n",
       "      <th>5.0</th>\n",
       "      <th>5.0</th>\n",
       "      <td>80.430865</td>\n",
       "      <td>59.091699</td>\n",
       "    </tr>\n",
       "    <tr>\n",
       "      <th>...</th>\n",
       "      <th>...</th>\n",
       "      <th>...</th>\n",
       "      <td>...</td>\n",
       "      <td>...</td>\n",
       "    </tr>\n",
       "    <tr>\n",
       "      <th rowspan=\"5\" valign=\"top\">Random Forest</th>\n",
       "      <th>5.0</th>\n",
       "      <th>15.0</th>\n",
       "      <td>80.434885</td>\n",
       "      <td>59.091488</td>\n",
       "    </tr>\n",
       "    <tr>\n",
       "      <th rowspan=\"4\" valign=\"top\">7.0</th>\n",
       "      <th>5.0</th>\n",
       "      <td>80.435332</td>\n",
       "      <td>59.091442</td>\n",
       "    </tr>\n",
       "    <tr>\n",
       "      <th>7.0</th>\n",
       "      <td>80.434537</td>\n",
       "      <td>59.090540</td>\n",
       "    </tr>\n",
       "    <tr>\n",
       "      <th>10.0</th>\n",
       "      <td>80.433768</td>\n",
       "      <td>59.091543</td>\n",
       "    </tr>\n",
       "    <tr>\n",
       "      <th>15.0</th>\n",
       "      <td>80.433388</td>\n",
       "      <td>59.091093</td>\n",
       "    </tr>\n",
       "  </tbody>\n",
       "</table>\n",
       "<p>120 rows × 2 columns</p>\n",
       "</div>"
      ],
      "text/plain": [
       "                                   Time[s]           \n",
       "                                      mean        std\n",
       "Classifier    Granularity N_PCs                      \n",
       "AdaBoost      4.0         5.0    80.430907  59.092118\n",
       "                          7.0    80.434117  59.096360\n",
       "                          10.0   80.431060  59.091689\n",
       "                          15.0   80.431826  59.092407\n",
       "              5.0         5.0    80.430865  59.091699\n",
       "...                                    ...        ...\n",
       "Random Forest 5.0         15.0   80.434885  59.091488\n",
       "              7.0         5.0    80.435332  59.091442\n",
       "                          7.0    80.434537  59.090540\n",
       "                          10.0   80.433768  59.091543\n",
       "                          15.0   80.433388  59.091093\n",
       "\n",
       "[120 rows x 2 columns]"
      ]
     },
     "execution_count": 219,
     "metadata": {},
     "output_type": "execute_result"
    }
   ],
   "source": [
    "time_df"
   ]
  },
  {
   "cell_type": "code",
   "execution_count": 215,
   "metadata": {},
   "outputs": [
    {
     "data": {
      "text/html": [
       "<div>\n",
       "<style scoped>\n",
       "    .dataframe tbody tr th:only-of-type {\n",
       "        vertical-align: middle;\n",
       "    }\n",
       "\n",
       "    .dataframe tbody tr th {\n",
       "        vertical-align: top;\n",
       "    }\n",
       "\n",
       "    .dataframe thead tr th {\n",
       "        text-align: left;\n",
       "    }\n",
       "\n",
       "    .dataframe thead tr:last-of-type th {\n",
       "        text-align: right;\n",
       "    }\n",
       "</style>\n",
       "<table border=\"1\" class=\"dataframe\">\n",
       "  <thead>\n",
       "    <tr>\n",
       "      <th></th>\n",
       "      <th></th>\n",
       "      <th>Accuracy</th>\n",
       "    </tr>\n",
       "    <tr>\n",
       "      <th></th>\n",
       "      <th></th>\n",
       "      <th>mean</th>\n",
       "    </tr>\n",
       "    <tr>\n",
       "      <th></th>\n",
       "      <th></th>\n",
       "      <th>count</th>\n",
       "    </tr>\n",
       "    <tr>\n",
       "      <th>Granularity</th>\n",
       "      <th>N_PCs</th>\n",
       "      <th></th>\n",
       "    </tr>\n",
       "  </thead>\n",
       "  <tbody>\n",
       "    <tr>\n",
       "      <th rowspan=\"2\" valign=\"top\">4.0</th>\n",
       "      <th>10.0</th>\n",
       "      <td>1</td>\n",
       "    </tr>\n",
       "    <tr>\n",
       "      <th>15.0</th>\n",
       "      <td>1</td>\n",
       "    </tr>\n",
       "    <tr>\n",
       "      <th rowspan=\"2\" valign=\"top\">5.0</th>\n",
       "      <th>10.0</th>\n",
       "      <td>1</td>\n",
       "    </tr>\n",
       "    <tr>\n",
       "      <th>15.0</th>\n",
       "      <td>1</td>\n",
       "    </tr>\n",
       "    <tr>\n",
       "      <th rowspan=\"2\" valign=\"top\">7.0</th>\n",
       "      <th>10.0</th>\n",
       "      <td>1</td>\n",
       "    </tr>\n",
       "    <tr>\n",
       "      <th>15.0</th>\n",
       "      <td>1</td>\n",
       "    </tr>\n",
       "  </tbody>\n",
       "</table>\n",
       "</div>"
      ],
      "text/plain": [
       "                  Accuracy\n",
       "                      mean\n",
       "                     count\n",
       "Granularity N_PCs         \n",
       "4.0         10.0         1\n",
       "            15.0         1\n",
       "5.0         10.0         1\n",
       "            15.0         1\n",
       "7.0         10.0         1\n",
       "            15.0         1"
      ]
     },
     "execution_count": 215,
     "metadata": {},
     "output_type": "execute_result"
    }
   ],
   "source": [
    "results_df[results_df[('Accuracy','mean')] > 0.85].groupby(['Granularity', 'N_PCs']).agg({('Accuracy','mean'):['count']})"
   ]
  },
  {
   "cell_type": "code",
   "execution_count": 216,
   "metadata": {},
   "outputs": [],
   "source": [
    "results_df.to_csv(f'Results/results_{st}_{NN}_{tipo}.csv')"
   ]
  },
  {
   "cell_type": "markdown",
   "metadata": {},
   "source": [
    "# RESULTADOS"
   ]
  },
  {
   "cell_type": "code",
   "execution_count": 228,
   "metadata": {},
   "outputs": [],
   "source": [
    "best_granularity = 7\n",
    "best_N_PCs = 15"
   ]
  },
  {
   "cell_type": "code",
   "execution_count": 229,
   "metadata": {},
   "outputs": [
    {
     "data": {
      "text/html": [
       "<div>\n",
       "<style scoped>\n",
       "    .dataframe tbody tr th:only-of-type {\n",
       "        vertical-align: middle;\n",
       "    }\n",
       "\n",
       "    .dataframe tbody tr th {\n",
       "        vertical-align: top;\n",
       "    }\n",
       "\n",
       "    .dataframe thead tr th {\n",
       "        text-align: left;\n",
       "    }\n",
       "\n",
       "    .dataframe thead tr:last-of-type th {\n",
       "        text-align: right;\n",
       "    }\n",
       "</style>\n",
       "<table border=\"1\" class=\"dataframe\">\n",
       "  <thead>\n",
       "    <tr>\n",
       "      <th></th>\n",
       "      <th></th>\n",
       "      <th></th>\n",
       "      <th colspan=\"2\" halign=\"left\">Accuracy</th>\n",
       "      <th colspan=\"2\" halign=\"left\">features</th>\n",
       "      <th colspan=\"2\" halign=\"left\">variation</th>\n",
       "    </tr>\n",
       "    <tr>\n",
       "      <th></th>\n",
       "      <th></th>\n",
       "      <th></th>\n",
       "      <th>mean</th>\n",
       "      <th>std</th>\n",
       "      <th>mean</th>\n",
       "      <th>std</th>\n",
       "      <th>mean</th>\n",
       "      <th>std</th>\n",
       "    </tr>\n",
       "    <tr>\n",
       "      <th>Classifier</th>\n",
       "      <th>Granularity</th>\n",
       "      <th>N_PCs</th>\n",
       "      <th></th>\n",
       "      <th></th>\n",
       "      <th></th>\n",
       "      <th></th>\n",
       "      <th></th>\n",
       "      <th></th>\n",
       "    </tr>\n",
       "  </thead>\n",
       "  <tbody>\n",
       "    <tr>\n",
       "      <th rowspan=\"5\" valign=\"top\">AdaBoost</th>\n",
       "      <th rowspan=\"4\" valign=\"top\">4.0</th>\n",
       "      <th>5.0</th>\n",
       "      <td>0.686006</td>\n",
       "      <td>0.034042</td>\n",
       "      <td>269.333333</td>\n",
       "      <td>17.785762</td>\n",
       "      <td>84.390090</td>\n",
       "      <td>0.458464</td>\n",
       "    </tr>\n",
       "    <tr>\n",
       "      <th>7.0</th>\n",
       "      <td>0.654873</td>\n",
       "      <td>0.052562</td>\n",
       "      <td>269.333333</td>\n",
       "      <td>17.785762</td>\n",
       "      <td>86.998670</td>\n",
       "      <td>0.401198</td>\n",
       "    </tr>\n",
       "    <tr>\n",
       "      <th>10.0</th>\n",
       "      <td>0.684227</td>\n",
       "      <td>0.044283</td>\n",
       "      <td>269.333333</td>\n",
       "      <td>17.785762</td>\n",
       "      <td>89.613704</td>\n",
       "      <td>0.398426</td>\n",
       "    </tr>\n",
       "    <tr>\n",
       "      <th>15.0</th>\n",
       "      <td>0.631483</td>\n",
       "      <td>0.031741</td>\n",
       "      <td>269.333333</td>\n",
       "      <td>17.785762</td>\n",
       "      <td>92.407883</td>\n",
       "      <td>0.423312</td>\n",
       "    </tr>\n",
       "    <tr>\n",
       "      <th>5.0</th>\n",
       "      <th>5.0</th>\n",
       "      <td>0.686006</td>\n",
       "      <td>0.034042</td>\n",
       "      <td>269.333333</td>\n",
       "      <td>17.785762</td>\n",
       "      <td>84.390090</td>\n",
       "      <td>0.458464</td>\n",
       "    </tr>\n",
       "    <tr>\n",
       "      <th>...</th>\n",
       "      <th>...</th>\n",
       "      <th>...</th>\n",
       "      <td>...</td>\n",
       "      <td>...</td>\n",
       "      <td>...</td>\n",
       "      <td>...</td>\n",
       "      <td>...</td>\n",
       "      <td>...</td>\n",
       "    </tr>\n",
       "    <tr>\n",
       "      <th rowspan=\"5\" valign=\"top\">Random Forest</th>\n",
       "      <th>5.0</th>\n",
       "      <th>15.0</th>\n",
       "      <td>0.812258</td>\n",
       "      <td>0.061086</td>\n",
       "      <td>269.333333</td>\n",
       "      <td>17.785762</td>\n",
       "      <td>92.407885</td>\n",
       "      <td>0.423325</td>\n",
       "    </tr>\n",
       "    <tr>\n",
       "      <th rowspan=\"4\" valign=\"top\">7.0</th>\n",
       "      <th>5.0</th>\n",
       "      <td>0.716922</td>\n",
       "      <td>0.054661</td>\n",
       "      <td>269.333333</td>\n",
       "      <td>17.785762</td>\n",
       "      <td>84.390090</td>\n",
       "      <td>0.458464</td>\n",
       "    </tr>\n",
       "    <tr>\n",
       "      <th>7.0</th>\n",
       "      <td>0.752412</td>\n",
       "      <td>0.066209</td>\n",
       "      <td>269.333333</td>\n",
       "      <td>17.785762</td>\n",
       "      <td>86.998670</td>\n",
       "      <td>0.401198</td>\n",
       "    </tr>\n",
       "    <tr>\n",
       "      <th>10.0</th>\n",
       "      <td>0.778422</td>\n",
       "      <td>0.059403</td>\n",
       "      <td>269.333333</td>\n",
       "      <td>17.785762</td>\n",
       "      <td>89.613703</td>\n",
       "      <td>0.398425</td>\n",
       "    </tr>\n",
       "    <tr>\n",
       "      <th>15.0</th>\n",
       "      <td>0.809092</td>\n",
       "      <td>0.029374</td>\n",
       "      <td>269.333333</td>\n",
       "      <td>17.785762</td>\n",
       "      <td>92.407889</td>\n",
       "      <td>0.423322</td>\n",
       "    </tr>\n",
       "  </tbody>\n",
       "</table>\n",
       "<p>120 rows × 6 columns</p>\n",
       "</div>"
      ],
      "text/plain": [
       "                                 Accuracy              features             \\\n",
       "                                     mean       std        mean        std   \n",
       "Classifier    Granularity N_PCs                                              \n",
       "AdaBoost      4.0         5.0    0.686006  0.034042  269.333333  17.785762   \n",
       "                          7.0    0.654873  0.052562  269.333333  17.785762   \n",
       "                          10.0   0.684227  0.044283  269.333333  17.785762   \n",
       "                          15.0   0.631483  0.031741  269.333333  17.785762   \n",
       "              5.0         5.0    0.686006  0.034042  269.333333  17.785762   \n",
       "...                                   ...       ...         ...        ...   \n",
       "Random Forest 5.0         15.0   0.812258  0.061086  269.333333  17.785762   \n",
       "              7.0         5.0    0.716922  0.054661  269.333333  17.785762   \n",
       "                          7.0    0.752412  0.066209  269.333333  17.785762   \n",
       "                          10.0   0.778422  0.059403  269.333333  17.785762   \n",
       "                          15.0   0.809092  0.029374  269.333333  17.785762   \n",
       "\n",
       "                                 variation            \n",
       "                                      mean       std  \n",
       "Classifier    Granularity N_PCs                       \n",
       "AdaBoost      4.0         5.0    84.390090  0.458464  \n",
       "                          7.0    86.998670  0.401198  \n",
       "                          10.0   89.613704  0.398426  \n",
       "                          15.0   92.407883  0.423312  \n",
       "              5.0         5.0    84.390090  0.458464  \n",
       "...                                    ...       ...  \n",
       "Random Forest 5.0         15.0   92.407885  0.423325  \n",
       "              7.0         5.0    84.390090  0.458464  \n",
       "                          7.0    86.998670  0.401198  \n",
       "                          10.0   89.613703  0.398425  \n",
       "                          15.0   92.407889  0.423322  \n",
       "\n",
       "[120 rows x 6 columns]"
      ]
     },
     "execution_count": 229,
     "metadata": {},
     "output_type": "execute_result"
    }
   ],
   "source": [
    "results_df"
   ]
  },
  {
   "cell_type": "code",
   "execution_count": 245,
   "metadata": {},
   "outputs": [
    {
     "name": "stdout",
     "output_type": "stream",
     "text": [
      "0.6401915111592531\n",
      "0.8026961345509734\n",
      "0.3333333333333333\n",
      "0.7498681966423901\n",
      "0.7632966177321016\n",
      "0.7987170454912391\n",
      "0.8991343983279467\n",
      "0.8378756322304709\n",
      "0.3333333333333333\n",
      "0.8090921566728019\n"
     ]
    }
   ],
   "source": [
    "foo = results_df.query(f'Granularity == {best_granularity} and N_PCs == {best_N_PCs}')\n",
    "\n",
    "\n",
    "tabela_latex = \"\"\n",
    "for row in foo.iterrows():\n",
    "    linha_latex = row[0][0] + \\\n",
    "                  \"&\" + \\\n",
    "                  str(row[1][('Accuracy', 'mean')]*100) + \\\n",
    "                  \"$\\pm$\" + \\\n",
    "                  str(row[1][('Accuracy', 'std')]*100) + \\\n",
    "                  \"\\n\"\n",
    "    tabela_latex += linha_latex\n",
    "#foo[('Accuracy', 'mean')]*100\n",
    "#foo[('Accuracy', 'std')]*100"
   ]
  },
  {
   "cell_type": "code",
   "execution_count": null,
   "metadata": {},
   "outputs": [],
   "source": []
  },
  {
   "cell_type": "markdown",
   "metadata": {},
   "source": [
    "# MATRIZ DE CONFUSÃO"
   ]
  },
  {
   "cell_type": "code",
   "execution_count": 217,
   "metadata": {},
   "outputs": [
    {
     "name": "stderr",
     "output_type": "stream",
     "text": [
      "/home/matheus/anaconda3/lib/python3.7/site-packages/pandas/core/computation/expressions.py:178: UserWarning: evaluating in Python space because the '*' operator is not supported by numexpr for the bool dtype, use '&' instead\n",
      "  f\"evaluating in Python space because the {repr(op_str)} \"\n"
     ]
    }
   ],
   "source": [
    "best_classifier = \"Neural Net\"\n",
    "\n",
    "confusion_matrix = df[(df['Classifier'] == best_classifier) * (df['Granularity'] == best_granularity) * (df['N_PCs'] == best_N_PCs)]['matrix'].sum()"
   ]
  },
  {
   "cell_type": "code",
   "execution_count": 218,
   "metadata": {},
   "outputs": [
    {
     "data": {
      "image/png": "[encoded data removed]",
      "text/plain": [
       "<Figure size 504x504 with 1 Axes>"
      ]
     },
     "metadata": {
      "needs_background": "light"
     },
     "output_type": "display_data"
    }
   ],
   "source": [
    "plt.figure(figsize=(7,7))\n",
    "\n",
    "g = sns.heatmap(confusion_matrix, \n",
    "            cmap='GnBu', \n",
    "            fmt='d', \n",
    "            annot=True, \n",
    "            cbar=False, \n",
    "            annot_kws={'fontsize':20},\n",
    "            xticklabels=['Adequada', 'Intermediária', 'Inadequada'],\n",
    "            yticklabels=['Adequada', 'Intermediária', 'Inadequada'])\n",
    "g.set_yticklabels(labels=g.get_yticklabels(), va='center', fontsize=15)\n",
    "g.set_xticklabels(labels=g.get_xticklabels(), fontsize=15)\n",
    "\n",
    "\n",
    "plt.ylabel('Valor Real\\n', fontsize=20)\n",
    "plt.xlabel('\\nValor Predito', fontsize=20)\n",
    "plt.savefig('confusion_matrix.png', bbox_inches='tight')\n",
    "plt.show()"
   ]
  },
  {
   "cell_type": "markdown",
   "metadata": {},
   "source": [
    "# BUTTERWORTH"
   ]
  },
  {
   "cell_type": "code",
   "execution_count": 140,
   "metadata": {},
   "outputs": [
    {
     "data": {
      "image/png": "[encoded data removed]",
      "text/plain": [
       "<Figure size 1152x432 with 2 Axes>"
      ]
     },
     "metadata": {
      "needs_background": "light"
     },
     "output_type": "display_data"
    }
   ],
   "source": [
    "import scipy.signal as signal\n",
    "import matplotlib.pyplot as plt\n",
    "\n",
    "fc = 200\n",
    "fs = 24e3\n",
    "\n",
    "sos = signal.butter(2, 2 * np.pi * fc, \"low\", fs=fs, output=\"sos\")\n",
    "\n",
    "b, a = signal.butter(2, 2 * np.pi * fc, \"low\", analog=True)\n",
    "w, h = signal.freqs(b, a)\n",
    "\n",
    "\n",
    "fig = plt.figure(figsize=(16,6))\n",
    "ax = fig.subplots(1,2)\n",
    "\n",
    "ax[0].semilogx(w/(2*np.pi), 20 * np.log10(abs(h)))\n",
    "\n",
    "ax[1].semilogx(w/(2*np.pi), np.angle(h)*180/np.pi)\n",
    "\n",
    "ax[0].set_xlabel('Frequência [Hz]', fontsize=15)\n",
    "ax[0].set_ylabel('Amplitude [dB]', fontsize=15)\n",
    "ax[1].set_xlabel('Frequência [Hz]', fontsize=15)\n",
    "ax[1].set_ylabel('Fase [°]', fontsize=15)\n",
    "\n",
    "ax[0].margins(0, 0.1)\n",
    "ax[1].margins(0, 0.1)\n",
    "ax[0].grid(which='both', axis='both')\n",
    "ax[1].grid(which='both', axis='both')\n",
    "plt.savefig('Bode.png', bbox_inches='tight')\n",
    "plt.show()"
   ]
  },
  {
   "cell_type": "code",
   "execution_count": 141,
   "metadata": {},
   "outputs": [
    {
     "data": {
      "text/plain": [
       "array([1579136.7041743])"
      ]
     },
     "execution_count": 141,
     "metadata": {},
     "output_type": "execute_result"
    }
   ],
   "source": [
    "b"
   ]
  },
  {
   "cell_type": "code",
   "execution_count": 142,
   "metadata": {},
   "outputs": [
    {
     "data": {
      "text/plain": [
       "array([1.00000000e+00, 1.77715318e+03, 1.57913670e+06])"
      ]
     },
     "execution_count": 142,
     "metadata": {},
     "output_type": "execute_result"
    }
   ],
   "source": [
    "a"
   ]
  },
  {
   "cell_type": "code",
   "execution_count": null,
   "metadata": {},
   "outputs": [],
   "source": []
  }
 ],
 "metadata": {
  "kernelspec": {
   "display_name": "Python 3 (ipykernel)",
   "language": "python",
   "name": "python3"
  },
  "language_info": {
   "codemirror_mode": {
    "name": "ipython",
    "version": 3
   },
   "file_extension": ".py",
   "mimetype": "text/x-python",
   "name": "python",
   "nbconvert_exporter": "python",
   "pygments_lexer": "ipython3",
   "version": "3.7.6"
  }
 },
 "nbformat": 4,
 "nbformat_minor": 4
}
