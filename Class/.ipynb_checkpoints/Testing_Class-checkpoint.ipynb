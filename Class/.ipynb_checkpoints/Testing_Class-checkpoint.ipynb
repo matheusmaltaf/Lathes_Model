{
 "cells": [
  {
   "cell_type": "code",
   "execution_count": 1,
   "metadata": {},
   "outputs": [],
   "source": [
    "from lathes_model import LathesModel\n",
    "import numpy as np\n",
    "from sklearn.model_selection import train_test_split\n",
    "from sklearn.neural_network import MLPClassifier"
   ]
  },
  {
   "cell_type": "markdown",
   "metadata": {},
   "source": [
    "### Initialize Model"
   ]
  },
  {
   "cell_type": "code",
   "execution_count": 2,
   "metadata": {},
   "outputs": [],
   "source": [
    "kwargs = {'N_PCs':3,\n",
    "          'clf' : MLPClassifier(alpha=1,max_iter=500),\n",
    "          'n_jobs':4,\n",
    "          'granularity':4,\n",
    "          'percent': 50}"
   ]
  },
  {
   "cell_type": "code",
   "execution_count": 3,
   "metadata": {},
   "outputs": [],
   "source": [
    "model = LathesModel(**kwargs)"
   ]
  },
  {
   "cell_type": "code",
   "execution_count": null,
   "metadata": {
    "scrolled": true
   },
   "outputs": [],
   "source": [
    "print(model.__doc__)"
   ]
  },
  {
   "cell_type": "markdown",
   "metadata": {},
   "source": [
    "### Load dataset"
   ]
  },
  {
   "cell_type": "code",
   "execution_count": null,
   "metadata": {},
   "outputs": [],
   "source": [
    "input_id = 1\n",
    "\n",
    "PATH = '../Input/Input_%i.csv' %(input_id)"
   ]
  },
  {
   "cell_type": "code",
   "execution_count": null,
   "metadata": {},
   "outputs": [],
   "source": [
    "full_data = np.genfromtxt(PATH,delimiter=',')"
   ]
  },
  {
   "cell_type": "code",
   "execution_count": null,
   "metadata": {},
   "outputs": [],
   "source": [
    "n_measures = int(full_data[:,1].max())\n",
    "n_timeseries = int(full_data[:,0].max())\n",
    "\n",
    "inadequate_condition = int(full_data[:,-1].sum()/n_measures)\n",
    "adequate_condition = n_timeseries - inadequate_condition\n",
    "\n",
    "\n",
    "print(30*'-')\n",
    "print('Shape:', full_data.shape)\n",
    "print(30*'-')\n",
    "print('Number of Time Series:', n_timeseries)\n",
    "print('    Adequate Condition:', adequate_condition)\n",
    "print('    Inadequate Condition:', inadequate_condition)\n",
    "print(30*'-')\n",
    "print('Measurments per Time Serie:', n_measures)\n",
    "print(30*'-')"
   ]
  },
  {
   "cell_type": "markdown",
   "metadata": {},
   "source": [
    "### train_test_split"
   ]
  },
  {
   "cell_type": "code",
   "execution_count": null,
   "metadata": {},
   "outputs": [],
   "source": [
    "index = full_data[::n_measures,0].astype(int) - 1\n",
    "target = full_data[::n_measures,-1]\n",
    "\n",
    "L, W = full_data.shape\n",
    "\n",
    "train_idx, test_idx, train_target, test_target = train_test_split(index, target, test_size=.3, \n",
    "                                                                  stratify=target, random_state=12)\n",
    "train_idx.sort()\n",
    "test_idx.sort()\n",
    "\n",
    "L_train = train_idx.shape[0]\n",
    "train_index = np.zeros(L_train*n_measures, dtype=np.int32)\n",
    "for ii in range(L_train):\n",
    "    train_index[ii*n_measures:(ii+1)*n_measures] = list(range(train_idx[ii]*n_measures,\n",
    "                                                                (train_idx[ii]+1)*n_measures)) \n",
    "L_test = test_idx.shape[0]\n",
    "test_index = np.zeros(L_test*n_measures, dtype=np.int32)\n",
    "for ii in range(L_test):\n",
    "    test_index[ii*n_measures:(ii+1)*n_measures] = list(range(test_idx[ii]*n_measures,\n",
    "                                                                (test_idx[ii]+1)*n_measures)) \n",
    "    \n",
    "train_data = full_data[train_index,:]\n",
    "test_data = full_data[test_index,:]"
   ]
  },
  {
   "cell_type": "code",
   "execution_count": null,
   "metadata": {},
   "outputs": [],
   "source": [
    "X_train = train_data[:,:-1]\n",
    "y_train = train_data[:,-1]\n",
    "\n",
    "X_test = test_data[:,:-1]\n",
    "y_test = test_data[:,-1]"
   ]
  },
  {
   "cell_type": "markdown",
   "metadata": {},
   "source": [
    "### fit"
   ]
  },
  {
   "cell_type": "code",
   "execution_count": null,
   "metadata": {},
   "outputs": [],
   "source": [
    "%%time\n",
    "model.fit(X_train,y_train)"
   ]
  },
  {
   "cell_type": "markdown",
   "metadata": {},
   "source": [
    "### predict"
   ]
  },
  {
   "cell_type": "code",
   "execution_count": null,
   "metadata": {},
   "outputs": [],
   "source": [
    "%%time\n",
    "y_pred = model.predict(X_test)"
   ]
  },
  {
   "cell_type": "markdown",
   "metadata": {},
   "source": [
    "### Analytics"
   ]
  },
  {
   "cell_type": "code",
   "execution_count": null,
   "metadata": {},
   "outputs": [],
   "source": [
    "model.plot_variation_held()"
   ]
  },
  {
   "cell_type": "code",
   "execution_count": null,
   "metadata": {
    "scrolled": true
   },
   "outputs": [],
   "source": [
    "model.plot_contribution_per_PC()"
   ]
  },
  {
   "cell_type": "code",
   "execution_count": null,
   "metadata": {
    "scrolled": false
   },
   "outputs": [],
   "source": [
    "model.plot_sensor_contribution()"
   ]
  },
  {
   "cell_type": "code",
   "execution_count": null,
   "metadata": {},
   "outputs": [],
   "source": [
    "model.plot_features_contribution()"
   ]
  },
  {
   "cell_type": "code",
   "execution_count": null,
   "metadata": {},
   "outputs": [],
   "source": [
    "model.plot_best_features_contribution()"
   ]
  },
  {
   "cell_type": "code",
   "execution_count": null,
   "metadata": {},
   "outputs": [],
   "source": [
    "model.plot_soda()"
   ]
  },
  {
   "cell_type": "code",
   "execution_count": null,
   "metadata": {},
   "outputs": [],
   "source": [
    "model.plot_GA()"
   ]
  },
  {
   "cell_type": "markdown",
   "metadata": {},
   "source": [
    "### Metrics"
   ]
  },
  {
   "cell_type": "code",
   "execution_count": null,
   "metadata": {},
   "outputs": [],
   "source": [
    "y_test = y_test[::n_measures]"
   ]
  },
  {
   "cell_type": "code",
   "execution_count": null,
   "metadata": {},
   "outputs": [],
   "source": [
    "from sklearn.metrics import accuracy_score, recall_score, f1_score, precision_score"
   ]
  },
  {
   "cell_type": "code",
   "execution_count": null,
   "metadata": {},
   "outputs": [],
   "source": [
    "Accuracy = accuracy_score(y_test,y_pred)*100\n",
    "Precision = precision_score(y_test, y_pred, zero_division=0)*100\n",
    "Recall = recall_score(y_test, y_pred, zero_division=0)*100\n",
    "F1 = f1_score(y_test, y_pred, zero_division=0)*100\n",
    "\n",
    "\n",
    "print(\"Accuracy:  {:5.2f}%\".format(Accuracy))\n",
    "print(\"Precision: {:5.2f}%\".format(Precision))\n",
    "print(\"Recall:    {:5.2f}%\".format(Recall))\n",
    "print(\"F1:        {:5.2f}%\".format(F1))"
   ]
  },
  {
   "cell_type": "code",
   "execution_count": null,
   "metadata": {},
   "outputs": [],
   "source": [
    "from sklearn.metrics import confusion_matrix\n",
    "import seaborn as sns\n",
    "import matplotlib.pyplot as plt     "
   ]
  },
  {
   "cell_type": "code",
   "execution_count": null,
   "metadata": {},
   "outputs": [],
   "source": [
    "cm = confusion_matrix(y_test, y_pred)"
   ]
  },
  {
   "cell_type": "code",
   "execution_count": null,
   "metadata": {},
   "outputs": [],
   "source": [
    "fig = plt.figure(figsize=(16,9))\n",
    "sns.heatmap(cm, annot=True, fmt='g',cmap=plt.cm.Blues)"
   ]
  },
  {
   "cell_type": "code",
   "execution_count": null,
   "metadata": {},
   "outputs": [],
   "source": [
    "import pickle"
   ]
  },
  {
   "cell_type": "code",
   "execution_count": null,
   "metadata": {},
   "outputs": [],
   "source": [
    "with open('models/LathesModel__input_train_{}__gra_{}__PCs_{}__{}.pkl'.format(input_id, \n",
    "                                                                  model.granularity_,\n",
    "                                                                  model.N_PCs_,\n",
    "                                                                  'NeuralNet'), 'wb') as f:\n",
    "    pickle.dump(model,f)"
   ]
  },
  {
   "cell_type": "markdown",
   "metadata": {},
   "source": [
    "### Change hyperparams"
   ]
  },
  {
   "cell_type": "code",
   "execution_count": null,
   "metadata": {},
   "outputs": [],
   "source": [
    "model2 = model.copy()\n",
    "\n",
    "model2.change_hyperparams({'granularity':2})\n",
    "\n",
    "model2.fit_after_tsfresh(X_train,y_train)"
   ]
  },
  {
   "cell_type": "code",
   "execution_count": null,
   "metadata": {},
   "outputs": [],
   "source": [
    "%%time\n",
    "y_pred = model2.predict(X_test)"
   ]
  },
  {
   "cell_type": "code",
   "execution_count": null,
   "metadata": {},
   "outputs": [],
   "source": [
    "model2.plot_soda()"
   ]
  },
  {
   "cell_type": "code",
   "execution_count": null,
   "metadata": {},
   "outputs": [],
   "source": [
    "%%time\n",
    "y_pred = model2.predict(X_test)"
   ]
  },
  {
   "cell_type": "code",
   "execution_count": null,
   "metadata": {},
   "outputs": [],
   "source": [
    "Accuracy = accuracy_score(y_test,y_pred)*100\n",
    "Precision = precision_score(y_test, y_pred, zero_division=0)*100\n",
    "Recall = recall_score(y_test, y_pred, zero_division=0)*100\n",
    "F1 = f1_score(y_test, y_pred, zero_division=0)*100\n",
    "\n",
    "\n",
    "print(\"Accuracy:  {:5.2f}%\".format(Accuracy))\n",
    "print(\"Precision: {:5.2f}%\".format(Precision))\n",
    "print(\"Recall:    {:5.2f}%\".format(Recall))\n",
    "print(\"F1:        {:5.2f}%\".format(F1))"
   ]
  },
  {
   "cell_type": "code",
   "execution_count": null,
   "metadata": {},
   "outputs": [],
   "source": [
    "cm = confusion_matrix(y_test, y_pred)"
   ]
  },
  {
   "cell_type": "code",
   "execution_count": null,
   "metadata": {},
   "outputs": [],
   "source": [
    "fig = plt.figure(figsize=(16,9))\n",
    "sns.heatmap(cm, annot=True, fmt='g',cmap=plt.cm.Blues)\n",
    "plt.show()"
   ]
  },
  {
   "cell_type": "code",
   "execution_count": null,
   "metadata": {},
   "outputs": [],
   "source": [
    "with open('models/LathesModel__input_train_{}__gra_{}__PCs_{}__{}.pkl'.format(input_id, \n",
    "                                                                  model.granularity_,\n",
    "                                                                  model.N_PCs_,\n",
    "                                                                  'NeuralNet'), 'wb') as f:\n",
    "    pickle.dump(model2,f)"
   ]
  }
 ],
 "metadata": {
  "kernelspec": {
   "display_name": "Python 3",
   "language": "python",
   "name": "python3"
  },
  "language_info": {
   "codemirror_mode": {
    "name": "ipython",
    "version": 3
   },
   "file_extension": ".py",
   "mimetype": "text/x-python",
   "name": "python",
   "nbconvert_exporter": "python",
   "pygments_lexer": "ipython3",
   "version": "3.7.6"
  }
 },
 "nbformat": 4,
 "nbformat_minor": 4
}
