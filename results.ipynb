{
 "cells": [
  {
   "cell_type": "code",
   "execution_count": 112,
   "metadata": {},
   "outputs": [],
   "source": [
    "import numpy as np\n",
    "import pandas as pd\n",
    "import pickle\n",
    "import os\n",
    "import seaborn as sns\n",
    "import matplotlib.pyplot as plt\n",
    "\n",
    "from matplotlib.colors import LogNorm, PowerNorm"
   ]
  },
  {
   "cell_type": "code",
   "execution_count": 167,
   "metadata": {},
   "outputs": [],
   "source": [
    "def read_dataframe(PATH, N):\n",
    "    df = pd.DataFrame()\n",
    "\n",
    "    for i in range(N):\n",
    "        results_dict = pickle.load(open(PATH %(i),'rb'))\n",
    "        for N_PCs in results_dict.keys():\n",
    "            for gra in results_dict[N_PCs].keys():\n",
    "                if type(results_dict[N_PCs][gra]) != str:\n",
    "                    n_classifiers = len(results_dict[N_PCs][gra].keys())\n",
    "                    for clf in results_dict[N_PCs][gra].keys():\n",
    "                        aux_dict = results_dict[N_PCs][gra][clf]\n",
    "                        aux_dict['N_PCs'] = N_PCs\n",
    "                        aux_dict['Granularity'] = gra\n",
    "                        aux_dict['Classifier'] = clf\n",
    "                        aux_dict['Iteration'] = i\n",
    "                        aux_dict['Time'] = results_dict[N_PCs][gra][clf]['time']\n",
    "                        df = df.append(aux_dict, ignore_index=True)\n",
    "                        \n",
    "    return df"
   ]
  },
  {
   "cell_type": "code",
   "execution_count": 162,
   "metadata": {},
   "outputs": [],
   "source": [
    "input_id = 0\n",
    "\n",
    "for st in ['union', 'intersection']:\n",
    "    for NN in [1600, 2000, 2400, 2800, 3200, 1795, 3584]:\n",
    "        for tipo in ['fft', 'tudo', 'fft_filtrado', 'tudo_filtrado']:\n",
    "            PATH = f\"Classification_{NN}_{tipo}\"\n",
    "            FILE = \"/Classifiers_result__{}__%i__{}__.pkl\".format(input_id, st)\n",
    "            RESULTS_FILE = f'results_{st}_{NN}_{tipo}.csv'\n",
    "            \n",
    "            if len(os.listdir(PATH)) == 10 and RESULTS_FILE not in os.listdir('Results/'):\n",
    "                print(RESULTS_FILE)\n",
    "                df = read_dataframe(PATH + FILE, 5)\n",
    "                \n",
    "                results_df = df.groupby(['Classifier','Granularity', 'N_PCs']).agg({'Accuracy':['mean','std'],\n",
    "                                                                    'features':['mean','std'],\n",
    "                                                                    'variation':['mean','std']})\n",
    "                \n",
    "                results_df.to_csv('Results/' + RESULTS_FILE)"
   ]
  },
  {
   "cell_type": "code",
   "execution_count": 318,
   "metadata": {},
   "outputs": [],
   "source": [
    "input_id = 0\n",
    "st = 'union'\n",
    "NN = 3584\n",
    "tipo = 'tudo_filtrado'\n",
    "N = 5\n",
    "\n",
    "PATH = \"Classification_{}_{}/Classifiers_result__{}__%i__{}__.pkl\".format(NN, tipo, input_id, st)\n",
    "\n",
    "df = read_dataframe(PATH, N)\n",
    "df['Time[s]'] = df['Time'].dt.total_seconds()\n",
    "results_df = df.groupby(['Classifier','Granularity', 'N_PCs']).agg({'Accuracy':['mean','std'],\n",
    "                                                                    'features':['mean','std'],\n",
    "                                                                    'variation':['mean','std']})\n",
    "time_df = df.groupby(['Classifier','Granularity', 'N_PCs']).agg({'Time[s]':['mean','std']})\n",
    "\n",
    "results_df.to_csv(f'Results/results_{st}_{NN}_{tipo}.csv')"
   ]
  },
  {
   "cell_type": "code",
   "execution_count": 319,
   "metadata": {},
   "outputs": [],
   "source": [
    "input_id = 0\n",
    "st = 'intersection'\n",
    "NN = 3584\n",
    "tipo = 'tudo_filtrado'\n",
    "N = 5\n",
    "\n",
    "PATH = \"Classification_{}_{}/Classifiers_result__{}__%i__{}__.pkl\".format(NN, tipo, input_id, st)\n",
    "\n",
    "df2 = read_dataframe(PATH, N)\n",
    "df2['Time[s]'] = df2['Time'].dt.total_seconds()\n",
    "results_df2 = df2.groupby(['Classifier','Granularity', 'N_PCs']).agg({'Accuracy':['mean','std'],\n",
    "                                                                    'features':['mean','std'],\n",
    "                                                                    'variation':['mean','std']})\n",
    "time_df2 = df2.groupby(['Classifier','Granularity', 'N_PCs']).agg({'Time[s]':['mean','std']})\n",
    "\n",
    "results_df2.to_csv(f'Results/results_{st}_{NN}_{tipo}.csv')"
   ]
  },
  {
   "cell_type": "code",
   "execution_count": 320,
   "metadata": {},
   "outputs": [
    {
     "data": {
      "text/html": [
       "<div>\n",
       "<style scoped>\n",
       "    .dataframe tbody tr th:only-of-type {\n",
       "        vertical-align: middle;\n",
       "    }\n",
       "\n",
       "    .dataframe tbody tr th {\n",
       "        vertical-align: top;\n",
       "    }\n",
       "\n",
       "    .dataframe thead tr th {\n",
       "        text-align: left;\n",
       "    }\n",
       "\n",
       "    .dataframe thead tr:last-of-type th {\n",
       "        text-align: right;\n",
       "    }\n",
       "</style>\n",
       "<table border=\"1\" class=\"dataframe\">\n",
       "  <thead>\n",
       "    <tr>\n",
       "      <th></th>\n",
       "      <th></th>\n",
       "      <th>Accuracy</th>\n",
       "    </tr>\n",
       "    <tr>\n",
       "      <th></th>\n",
       "      <th></th>\n",
       "      <th>mean</th>\n",
       "    </tr>\n",
       "    <tr>\n",
       "      <th></th>\n",
       "      <th></th>\n",
       "      <th>count</th>\n",
       "    </tr>\n",
       "    <tr>\n",
       "      <th>Granularity</th>\n",
       "      <th>N_PCs</th>\n",
       "      <th></th>\n",
       "    </tr>\n",
       "  </thead>\n",
       "  <tbody>\n",
       "    <tr>\n",
       "      <th rowspan=\"2\" valign=\"top\">4.0</th>\n",
       "      <th>10.0</th>\n",
       "      <td>2</td>\n",
       "    </tr>\n",
       "    <tr>\n",
       "      <th>15.0</th>\n",
       "      <td>2</td>\n",
       "    </tr>\n",
       "    <tr>\n",
       "      <th rowspan=\"2\" valign=\"top\">5.0</th>\n",
       "      <th>10.0</th>\n",
       "      <td>2</td>\n",
       "    </tr>\n",
       "    <tr>\n",
       "      <th>15.0</th>\n",
       "      <td>2</td>\n",
       "    </tr>\n",
       "    <tr>\n",
       "      <th rowspan=\"2\" valign=\"top\">7.0</th>\n",
       "      <th>10.0</th>\n",
       "      <td>2</td>\n",
       "    </tr>\n",
       "    <tr>\n",
       "      <th>15.0</th>\n",
       "      <td>2</td>\n",
       "    </tr>\n",
       "  </tbody>\n",
       "</table>\n",
       "</div>"
      ],
      "text/plain": [
       "                  Accuracy\n",
       "                      mean\n",
       "                     count\n",
       "Granularity N_PCs         \n",
       "4.0         10.0         2\n",
       "            15.0         2\n",
       "5.0         10.0         2\n",
       "            15.0         2\n",
       "7.0         10.0         2\n",
       "            15.0         2"
      ]
     },
     "execution_count": 320,
     "metadata": {},
     "output_type": "execute_result"
    }
   ],
   "source": [
    "results_df[results_df[('Accuracy','mean')] > 0.85].groupby(['Granularity', 'N_PCs']).agg({('Accuracy','mean'):['count']})"
   ]
  },
  {
   "cell_type": "code",
   "execution_count": 321,
   "metadata": {},
   "outputs": [
    {
     "data": {
      "text/html": [
       "<div>\n",
       "<style scoped>\n",
       "    .dataframe tbody tr th:only-of-type {\n",
       "        vertical-align: middle;\n",
       "    }\n",
       "\n",
       "    .dataframe tbody tr th {\n",
       "        vertical-align: top;\n",
       "    }\n",
       "\n",
       "    .dataframe thead tr th {\n",
       "        text-align: left;\n",
       "    }\n",
       "\n",
       "    .dataframe thead tr:last-of-type th {\n",
       "        text-align: right;\n",
       "    }\n",
       "</style>\n",
       "<table border=\"1\" class=\"dataframe\">\n",
       "  <thead>\n",
       "    <tr>\n",
       "      <th></th>\n",
       "      <th></th>\n",
       "      <th>Accuracy</th>\n",
       "    </tr>\n",
       "    <tr>\n",
       "      <th></th>\n",
       "      <th></th>\n",
       "      <th>mean</th>\n",
       "    </tr>\n",
       "    <tr>\n",
       "      <th></th>\n",
       "      <th></th>\n",
       "      <th>count</th>\n",
       "    </tr>\n",
       "    <tr>\n",
       "      <th>Granularity</th>\n",
       "      <th>N_PCs</th>\n",
       "      <th></th>\n",
       "    </tr>\n",
       "  </thead>\n",
       "  <tbody>\n",
       "    <tr>\n",
       "      <th rowspan=\"2\" valign=\"top\">4.0</th>\n",
       "      <th>10.0</th>\n",
       "      <td>1</td>\n",
       "    </tr>\n",
       "    <tr>\n",
       "      <th>15.0</th>\n",
       "      <td>1</td>\n",
       "    </tr>\n",
       "    <tr>\n",
       "      <th rowspan=\"2\" valign=\"top\">5.0</th>\n",
       "      <th>10.0</th>\n",
       "      <td>1</td>\n",
       "    </tr>\n",
       "    <tr>\n",
       "      <th>15.0</th>\n",
       "      <td>1</td>\n",
       "    </tr>\n",
       "    <tr>\n",
       "      <th>7.0</th>\n",
       "      <th>15.0</th>\n",
       "      <td>1</td>\n",
       "    </tr>\n",
       "  </tbody>\n",
       "</table>\n",
       "</div>"
      ],
      "text/plain": [
       "                  Accuracy\n",
       "                      mean\n",
       "                     count\n",
       "Granularity N_PCs         \n",
       "4.0         10.0         1\n",
       "            15.0         1\n",
       "5.0         10.0         1\n",
       "            15.0         1\n",
       "7.0         15.0         1"
      ]
     },
     "execution_count": 321,
     "metadata": {},
     "output_type": "execute_result"
    }
   ],
   "source": [
    "results_df2[results_df2[('Accuracy','mean')] > 0.85].groupby(['Granularity', 'N_PCs']).agg({('Accuracy','mean'):['count']})"
   ]
  },
  {
   "cell_type": "markdown",
   "metadata": {},
   "source": [
    "# RESULTADOS"
   ]
  },
  {
   "cell_type": "code",
   "execution_count": 322,
   "metadata": {},
   "outputs": [
    {
     "data": {
      "text/html": [
       "<div>\n",
       "<style scoped>\n",
       "    .dataframe tbody tr th:only-of-type {\n",
       "        vertical-align: middle;\n",
       "    }\n",
       "\n",
       "    .dataframe tbody tr th {\n",
       "        vertical-align: top;\n",
       "    }\n",
       "\n",
       "    .dataframe thead tr th {\n",
       "        text-align: left;\n",
       "    }\n",
       "\n",
       "    .dataframe thead tr:last-of-type th {\n",
       "        text-align: right;\n",
       "    }\n",
       "</style>\n",
       "<table border=\"1\" class=\"dataframe\">\n",
       "  <thead>\n",
       "    <tr>\n",
       "      <th></th>\n",
       "      <th></th>\n",
       "      <th></th>\n",
       "      <th colspan=\"2\" halign=\"left\">Time[s]</th>\n",
       "    </tr>\n",
       "    <tr>\n",
       "      <th></th>\n",
       "      <th></th>\n",
       "      <th></th>\n",
       "      <th>mean</th>\n",
       "      <th>std</th>\n",
       "    </tr>\n",
       "    <tr>\n",
       "      <th>Classifier</th>\n",
       "      <th>Granularity</th>\n",
       "      <th>N_PCs</th>\n",
       "      <th></th>\n",
       "      <th></th>\n",
       "    </tr>\n",
       "  </thead>\n",
       "  <tbody>\n",
       "    <tr>\n",
       "      <th rowspan=\"5\" valign=\"top\">AdaBoost</th>\n",
       "      <th rowspan=\"4\" valign=\"top\">4.0</th>\n",
       "      <th>5.0</th>\n",
       "      <td>183.204228</td>\n",
       "      <td>33.063610</td>\n",
       "    </tr>\n",
       "    <tr>\n",
       "      <th>7.0</th>\n",
       "      <td>183.204769</td>\n",
       "      <td>33.063642</td>\n",
       "    </tr>\n",
       "    <tr>\n",
       "      <th>10.0</th>\n",
       "      <td>183.204350</td>\n",
       "      <td>33.063592</td>\n",
       "    </tr>\n",
       "    <tr>\n",
       "      <th>15.0</th>\n",
       "      <td>183.204284</td>\n",
       "      <td>33.063505</td>\n",
       "    </tr>\n",
       "    <tr>\n",
       "      <th>5.0</th>\n",
       "      <th>5.0</th>\n",
       "      <td>183.204343</td>\n",
       "      <td>33.063802</td>\n",
       "    </tr>\n",
       "    <tr>\n",
       "      <th>...</th>\n",
       "      <th>...</th>\n",
       "      <th>...</th>\n",
       "      <td>...</td>\n",
       "      <td>...</td>\n",
       "    </tr>\n",
       "    <tr>\n",
       "      <th rowspan=\"5\" valign=\"top\">Random Forest</th>\n",
       "      <th>5.0</th>\n",
       "      <th>15.0</th>\n",
       "      <td>183.206951</td>\n",
       "      <td>33.063354</td>\n",
       "    </tr>\n",
       "    <tr>\n",
       "      <th rowspan=\"4\" valign=\"top\">7.0</th>\n",
       "      <th>5.0</th>\n",
       "      <td>183.207328</td>\n",
       "      <td>33.063684</td>\n",
       "    </tr>\n",
       "    <tr>\n",
       "      <th>7.0</th>\n",
       "      <td>183.207172</td>\n",
       "      <td>33.063448</td>\n",
       "    </tr>\n",
       "    <tr>\n",
       "      <th>10.0</th>\n",
       "      <td>183.206995</td>\n",
       "      <td>33.063733</td>\n",
       "    </tr>\n",
       "    <tr>\n",
       "      <th>15.0</th>\n",
       "      <td>183.206821</td>\n",
       "      <td>33.063798</td>\n",
       "    </tr>\n",
       "  </tbody>\n",
       "</table>\n",
       "<p>120 rows × 2 columns</p>\n",
       "</div>"
      ],
      "text/plain": [
       "                                    Time[s]           \n",
       "                                       mean        std\n",
       "Classifier    Granularity N_PCs                       \n",
       "AdaBoost      4.0         5.0    183.204228  33.063610\n",
       "                          7.0    183.204769  33.063642\n",
       "                          10.0   183.204350  33.063592\n",
       "                          15.0   183.204284  33.063505\n",
       "              5.0         5.0    183.204343  33.063802\n",
       "...                                     ...        ...\n",
       "Random Forest 5.0         15.0   183.206951  33.063354\n",
       "              7.0         5.0    183.207328  33.063684\n",
       "                          7.0    183.207172  33.063448\n",
       "                          10.0   183.206995  33.063733\n",
       "                          15.0   183.206821  33.063798\n",
       "\n",
       "[120 rows x 2 columns]"
      ]
     },
     "execution_count": 322,
     "metadata": {},
     "output_type": "execute_result"
    }
   ],
   "source": [
    "time_df"
   ]
  },
  {
   "cell_type": "code",
   "execution_count": 323,
   "metadata": {},
   "outputs": [
    {
     "data": {
      "text/html": [
       "<div>\n",
       "<style scoped>\n",
       "    .dataframe tbody tr th:only-of-type {\n",
       "        vertical-align: middle;\n",
       "    }\n",
       "\n",
       "    .dataframe tbody tr th {\n",
       "        vertical-align: top;\n",
       "    }\n",
       "\n",
       "    .dataframe thead tr th {\n",
       "        text-align: left;\n",
       "    }\n",
       "\n",
       "    .dataframe thead tr:last-of-type th {\n",
       "        text-align: right;\n",
       "    }\n",
       "</style>\n",
       "<table border=\"1\" class=\"dataframe\">\n",
       "  <thead>\n",
       "    <tr>\n",
       "      <th></th>\n",
       "      <th></th>\n",
       "      <th></th>\n",
       "      <th colspan=\"2\" halign=\"left\">Time[s]</th>\n",
       "    </tr>\n",
       "    <tr>\n",
       "      <th></th>\n",
       "      <th></th>\n",
       "      <th></th>\n",
       "      <th>mean</th>\n",
       "      <th>std</th>\n",
       "    </tr>\n",
       "    <tr>\n",
       "      <th>Classifier</th>\n",
       "      <th>Granularity</th>\n",
       "      <th>N_PCs</th>\n",
       "      <th></th>\n",
       "      <th></th>\n",
       "    </tr>\n",
       "  </thead>\n",
       "  <tbody>\n",
       "    <tr>\n",
       "      <th rowspan=\"5\" valign=\"top\">AdaBoost</th>\n",
       "      <th rowspan=\"4\" valign=\"top\">4.0</th>\n",
       "      <th>5.0</th>\n",
       "      <td>62.589125</td>\n",
       "      <td>48.418684</td>\n",
       "    </tr>\n",
       "    <tr>\n",
       "      <th>7.0</th>\n",
       "      <td>62.591211</td>\n",
       "      <td>48.422050</td>\n",
       "    </tr>\n",
       "    <tr>\n",
       "      <th>10.0</th>\n",
       "      <td>62.589297</td>\n",
       "      <td>48.418407</td>\n",
       "    </tr>\n",
       "    <tr>\n",
       "      <th>15.0</th>\n",
       "      <td>62.589742</td>\n",
       "      <td>48.419070</td>\n",
       "    </tr>\n",
       "    <tr>\n",
       "      <th>5.0</th>\n",
       "      <th>5.0</th>\n",
       "      <td>62.589147</td>\n",
       "      <td>48.418380</td>\n",
       "    </tr>\n",
       "    <tr>\n",
       "      <th>...</th>\n",
       "      <th>...</th>\n",
       "      <th>...</th>\n",
       "      <td>...</td>\n",
       "      <td>...</td>\n",
       "    </tr>\n",
       "    <tr>\n",
       "      <th rowspan=\"5\" valign=\"top\">Random Forest</th>\n",
       "      <th>5.0</th>\n",
       "      <th>15.0</th>\n",
       "      <td>62.592640</td>\n",
       "      <td>48.418626</td>\n",
       "    </tr>\n",
       "    <tr>\n",
       "      <th rowspan=\"4\" valign=\"top\">7.0</th>\n",
       "      <th>5.0</th>\n",
       "      <td>62.592911</td>\n",
       "      <td>48.418714</td>\n",
       "    </tr>\n",
       "    <tr>\n",
       "      <th>7.0</th>\n",
       "      <td>62.592445</td>\n",
       "      <td>48.417936</td>\n",
       "    </tr>\n",
       "    <tr>\n",
       "      <th>10.0</th>\n",
       "      <td>62.591984</td>\n",
       "      <td>48.418330</td>\n",
       "    </tr>\n",
       "    <tr>\n",
       "      <th>15.0</th>\n",
       "      <td>62.591762</td>\n",
       "      <td>48.417955</td>\n",
       "    </tr>\n",
       "  </tbody>\n",
       "</table>\n",
       "<p>120 rows × 2 columns</p>\n",
       "</div>"
      ],
      "text/plain": [
       "                                   Time[s]           \n",
       "                                      mean        std\n",
       "Classifier    Granularity N_PCs                      \n",
       "AdaBoost      4.0         5.0    62.589125  48.418684\n",
       "                          7.0    62.591211  48.422050\n",
       "                          10.0   62.589297  48.418407\n",
       "                          15.0   62.589742  48.419070\n",
       "              5.0         5.0    62.589147  48.418380\n",
       "...                                    ...        ...\n",
       "Random Forest 5.0         15.0   62.592640  48.418626\n",
       "              7.0         5.0    62.592911  48.418714\n",
       "                          7.0    62.592445  48.417936\n",
       "                          10.0   62.591984  48.418330\n",
       "                          15.0   62.591762  48.417955\n",
       "\n",
       "[120 rows x 2 columns]"
      ]
     },
     "execution_count": 323,
     "metadata": {},
     "output_type": "execute_result"
    }
   ],
   "source": [
    "time_df2"
   ]
  },
  {
   "cell_type": "code",
   "execution_count": 325,
   "metadata": {},
   "outputs": [],
   "source": [
    "best_granularity = 7\n",
    "best_N_PCs = 15"
   ]
  },
  {
   "cell_type": "code",
   "execution_count": 326,
   "metadata": {},
   "outputs": [],
   "source": [
    "union = results_df.query(f'Granularity == {best_granularity} and N_PCs == {best_N_PCs}')\n",
    "intersection = results_df2.query(f'Granularity == {best_granularity} and N_PCs == {best_N_PCs}')\n",
    "\n",
    "union_time = time_df.query(f'Granularity == {best_granularity} and N_PCs == {best_N_PCs}')\n",
    "intersection_time = time_df2.query(f'Granularity == {best_granularity} and N_PCs == {best_N_PCs}')\n",
    "\n",
    "\n",
    "tabela_latex = \"\"\n",
    "for (row_union, row_intersection, row_time_u, row_time_i) in zip(union.iterrows(), intersection.iterrows(), union_time.iterrows(), intersection_time.iterrows()):\n",
    "    linha_latex =  \"{:20} & {:6.2f} $\\pm$ {:6.2f} & {:6.2f} $\\pm$ {:6.2f} & {:6.0f}:{:7.4f}  $\\pm$ {:6.0f}:{:7.4f} & {:6.0f}:{:7.4f}  $\\pm$ {:6.0f}:{:7.4f} \\\\\\\\ \\n\".format(row_union[0][0],\n",
    "                                                row_union[1][('Accuracy', 'mean')]*100,\n",
    "                                                row_union[1][('Accuracy', 'std')]*100,\n",
    "                                                row_intersection[1][('Accuracy', 'mean')]*100,\n",
    "                                                row_intersection[1][('Accuracy', 'std')]*100,\n",
    "                                                row_time_u[1][('Time[s]', 'mean')]//60,\n",
    "                                                row_time_u[1][('Time[s]', 'mean')]%60,\n",
    "                                                row_time_u[1][('Time[s]', 'std')]//60,\n",
    "                                                row_time_u[1][('Time[s]', 'std')]%60,\n",
    "                                                row_time_i[1][('Time[s]', 'mean')]//60,\n",
    "                                                row_time_i[1][('Time[s]', 'mean')]%60,\n",
    "                                                row_time_i[1][('Time[s]', 'std')]//60,\n",
    "                                                row_time_i[1][('Time[s]', 'std')]%60)\n",
    "    tabela_latex += linha_latex"
   ]
  },
  {
   "cell_type": "code",
   "execution_count": 327,
   "metadata": {},
   "outputs": [
    {
     "name": "stdout",
     "output_type": "stream",
     "text": [
      "AdaBoost             &  61.87 $\\pm$   8.28 &  63.95 $\\pm$   9.05 &      3: 3.2043  $\\pm$      0:33.0637 &      1: 2.5893  $\\pm$      0:48.4183 \\\\ \n",
      "Decision Tree        &  79.00 $\\pm$   2.58 &  79.57 $\\pm$   5.59 &      3: 3.1967  $\\pm$      0:33.0634 &      1: 2.5814  $\\pm$      0:48.4180 \\\\ \n",
      "Gaussian Process     &  79.61 $\\pm$   4.24 &  33.33 $\\pm$   0.00 &      3: 3.2197  $\\pm$      0:33.0644 &      1: 2.6043  $\\pm$      0:48.4178 \\\\ \n",
      "Linear SVM           &  80.52 $\\pm$   6.16 &  76.21 $\\pm$   5.23 &      3: 3.1977  $\\pm$      0:33.0634 &      1: 2.5826  $\\pm$      0:48.4180 \\\\ \n",
      "Naive Bayes          &  84.42 $\\pm$   4.98 &  75.39 $\\pm$   6.64 &      3: 3.1967  $\\pm$      0:33.0635 &      1: 2.5816  $\\pm$      0:48.4182 \\\\ \n",
      "Nearest Neighbors    &  83.15 $\\pm$   3.30 &  79.71 $\\pm$   4.27 &      3: 3.2035  $\\pm$      0:33.0638 &      1: 2.5884  $\\pm$      0:48.4183 \\\\ \n",
      "Neural Net           &  88.58 $\\pm$   4.85 &  88.87 $\\pm$   4.57 &      3: 3.1967  $\\pm$      0:33.0634 &      1: 2.5816  $\\pm$      0:48.4180 \\\\ \n",
      "QDA                  &  89.44 $\\pm$   2.90 &  83.72 $\\pm$   4.41 &      3: 3.1969  $\\pm$      0:33.0635 &      1: 2.5815  $\\pm$      0:48.4181 \\\\ \n",
      "RBF SVM              &  33.33 $\\pm$   0.00 &  33.33 $\\pm$   0.00 &      3: 3.2004  $\\pm$      0:33.0635 &      1: 2.5846  $\\pm$      0:48.4182 \\\\ \n",
      "Random Forest        &  81.28 $\\pm$   5.49 &  79.69 $\\pm$   4.03 &      3: 3.2068  $\\pm$      0:33.0638 &      1: 2.5918  $\\pm$      0:48.4180 \\\\ \n",
      "\n"
     ]
    },
    {
     "data": {
      "text/plain": [
       "'Quadratic Discriminant Analysis'"
      ]
     },
     "execution_count": 327,
     "metadata": {},
     "output_type": "execute_result"
    }
   ],
   "source": [
    "print(tabela_latex)\n",
    "\"Quadratic Discriminant Analysis\""
   ]
  },
  {
   "cell_type": "markdown",
   "metadata": {},
   "source": [
    "# MATRIZ DE CONFUSÃO"
   ]
  },
  {
   "cell_type": "code",
   "execution_count": 328,
   "metadata": {},
   "outputs": [
    {
     "name": "stderr",
     "output_type": "stream",
     "text": [
      "/home/matheus/anaconda3/lib/python3.7/site-packages/pandas/core/computation/expressions.py:178: UserWarning: evaluating in Python space because the '*' operator is not supported by numexpr for the bool dtype, use '&' instead\n",
      "  f\"evaluating in Python space because the {repr(op_str)} \"\n"
     ]
    }
   ],
   "source": [
    "best_classifier = \"Neural Net\"\n",
    "\n",
    "confusion_matrix = df[(df['Classifier'] == best_classifier) * (df['Granularity'] == best_granularity) * (df['N_PCs'] == best_N_PCs)]['matrix'].sum()"
   ]
  },
  {
   "cell_type": "code",
   "execution_count": 329,
   "metadata": {},
   "outputs": [
    {
     "data": {
      "image/png": "[encoded data removed]",
      "text/plain": [
       "<Figure size 504x504 with 1 Axes>"
      ]
     },
     "metadata": {
      "needs_background": "light"
     },
     "output_type": "display_data"
    }
   ],
   "source": [
    "plt.figure(figsize=(7,7))\n",
    "\n",
    "g = sns.heatmap(confusion_matrix, \n",
    "            cmap='GnBu', \n",
    "            fmt='d', \n",
    "            annot=True, \n",
    "            cbar=False, \n",
    "            annot_kws={'fontsize':20},\n",
    "            xticklabels=['Adequada', 'Intermediária', 'Inadequada'],\n",
    "            yticklabels=['Adequada', 'Intermediária', 'Inadequada'])\n",
    "g.set_yticklabels(labels=g.get_yticklabels(), va='center', fontsize=15)\n",
    "g.set_xticklabels(labels=g.get_xticklabels(), fontsize=15)\n",
    "\n",
    "\n",
    "plt.ylabel('Valor Real\\n', fontsize=20)\n",
    "plt.xlabel('\\nValor Predito', fontsize=20)\n",
    "plt.savefig('confusion_matrix.png', bbox_inches='tight')\n",
    "plt.show()"
   ]
  },
  {
   "cell_type": "markdown",
   "metadata": {},
   "source": [
    "# BUTTERWORTH"
   ]
  },
  {
   "cell_type": "code",
   "execution_count": 140,
   "metadata": {},
   "outputs": [
    {
     "data": {
      "image/png": "[encoded data removed]",
      "text/plain": [
       "<Figure size 1152x432 with 2 Axes>"
      ]
     },
     "metadata": {
      "needs_background": "light"
     },
     "output_type": "display_data"
    }
   ],
   "source": [
    "import scipy.signal as signal\n",
    "import matplotlib.pyplot as plt\n",
    "\n",
    "fc = 200\n",
    "fs = 24e3\n",
    "\n",
    "sos = signal.butter(2, 2 * np.pi * fc, \"low\", fs=fs, output=\"sos\")\n",
    "\n",
    "b, a = signal.butter(2, 2 * np.pi * fc, \"low\", analog=True)\n",
    "w, h = signal.freqs(b, a)\n",
    "\n",
    "\n",
    "fig = plt.figure(figsize=(16,6))\n",
    "ax = fig.subplots(1,2)\n",
    "\n",
    "ax[0].semilogx(w/(2*np.pi), 20 * np.log10(abs(h)))\n",
    "\n",
    "ax[1].semilogx(w/(2*np.pi), np.angle(h)*180/np.pi)\n",
    "\n",
    "ax[0].set_xlabel('Frequência [Hz]', fontsize=15)\n",
    "ax[0].set_ylabel('Amplitude [dB]', fontsize=15)\n",
    "ax[1].set_xlabel('Frequência [Hz]', fontsize=15)\n",
    "ax[1].set_ylabel('Fase [°]', fontsize=15)\n",
    "\n",
    "ax[0].margins(0, 0.1)\n",
    "ax[1].margins(0, 0.1)\n",
    "ax[0].grid(which='both', axis='both')\n",
    "ax[1].grid(which='both', axis='both')\n",
    "plt.savefig('Bode.png', bbox_inches='tight')\n",
    "plt.show()"
   ]
  },
  {
   "cell_type": "code",
   "execution_count": 141,
   "metadata": {},
   "outputs": [
    {
     "data": {
      "text/plain": [
       "array([1579136.7041743])"
      ]
     },
     "execution_count": 141,
     "metadata": {},
     "output_type": "execute_result"
    }
   ],
   "source": [
    "b"
   ]
  },
  {
   "cell_type": "code",
   "execution_count": 142,
   "metadata": {},
   "outputs": [
    {
     "data": {
      "text/plain": [
       "array([1.00000000e+00, 1.77715318e+03, 1.57913670e+06])"
      ]
     },
     "execution_count": 142,
     "metadata": {},
     "output_type": "execute_result"
    }
   ],
   "source": [
    "a"
   ]
  },
  {
   "cell_type": "code",
   "execution_count": null,
   "metadata": {},
   "outputs": [],
   "source": []
  }
 ],
 "metadata": {
  "kernelspec": {
   "display_name": "Python 3 (ipykernel)",
   "language": "python",
   "name": "python3"
  },
  "language_info": {
   "codemirror_mode": {
    "name": "ipython",
    "version": 3
   },
   "file_extension": ".py",
   "mimetype": "text/x-python",
   "name": "python",
   "nbconvert_exporter": "python",
   "pygments_lexer": "ipython3",
   "version": "3.7.6"
  }
 },
 "nbformat": 4,
 "nbformat_minor": 4
}
